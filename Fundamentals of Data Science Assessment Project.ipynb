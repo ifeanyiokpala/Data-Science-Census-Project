{
 "cells": [
  {
   "cell_type": "markdown",
   "id": "82e13480",
   "metadata": {},
   "source": [
    "# Fundamentals of Data Science\n",
    "## Assignment 771766\n",
    "### Name: IFEANYI ANTHONY OKPALA\n",
    "### Student Number: 202203449"
   ]
  },
  {
   "cell_type": "markdown",
   "id": "ac0ed3bf",
   "metadata": {},
   "source": [
    "# Tasks\n",
    "\n",
    "This illustrates various steps taken to clean and analyse a given census of a moderately sized town to make advice for \n",
    "\n",
    "investment in the future and use cases for developments on an unused plot of land. \n",
    "\n",
    "In this project we will be focusing on two main task:\n",
    "\n",
    "* Data Cleaning\n",
    "* Data Visualization and Analysis\n",
    "\n",
    "We will first start with the data data cleaning task but it is necessary to ensure all packages required for this project are installed.\n",
    "\n",
    "We might need to install some packages for analysis such as pandas and sweetviz by using pip install as shown below:\n",
    "\n",
    "`pip install pandas` and `pip install sweetviz`"
   ]
  },
  {
   "cell_type": "markdown",
   "id": "b06503e9",
   "metadata": {},
   "source": [
    "## Data Cleaning Task\n",
    "\n",
    "Data cleaning is important to correct or remove any anomalies in the data.\n",
    "\n",
    "Fisrtly,let's import all libraries needed for this project."
   ]
  },
  {
   "cell_type": "code",
   "execution_count": 1,
   "id": "e31ba1bb",
   "metadata": {},
   "outputs": [],
   "source": [
    "# Importing all libraries needed for this project.\n",
    "\n",
    "import pandas as pd\n",
    "import numpy as np\n",
    "import matplotlib.pyplot as plt\n",
    "import seaborn as sns\n",
    "import sweetviz as sv\n",
    "from IPython.display import IFrame\n",
    "\n",
    "%matplotlib inline"
   ]
  },
  {
   "cell_type": "markdown",
   "id": "74e087ef",
   "metadata": {},
   "source": [
    "Now we have imported the libraries to be used for our project, It is important we create a copy of our data to ensure we maintain the original data then we start cleaning our data."
   ]
  },
  {
   "cell_type": "code",
   "execution_count": 2,
   "id": "c43f4e64",
   "metadata": {},
   "outputs": [
    {
     "data": {
      "text/html": [
       "<div>\n",
       "<style scoped>\n",
       "    .dataframe tbody tr th:only-of-type {\n",
       "        vertical-align: middle;\n",
       "    }\n",
       "\n",
       "    .dataframe tbody tr th {\n",
       "        vertical-align: top;\n",
       "    }\n",
       "\n",
       "    .dataframe thead th {\n",
       "        text-align: right;\n",
       "    }\n",
       "</style>\n",
       "<table border=\"1\" class=\"dataframe\">\n",
       "  <thead>\n",
       "    <tr style=\"text-align: right;\">\n",
       "      <th></th>\n",
       "      <th>House Number</th>\n",
       "      <th>Street</th>\n",
       "      <th>First Name</th>\n",
       "      <th>Surname</th>\n",
       "      <th>Age</th>\n",
       "      <th>Relationship to Head of House</th>\n",
       "      <th>Marital Status</th>\n",
       "      <th>Gender</th>\n",
       "      <th>Occupation</th>\n",
       "      <th>Infirmity</th>\n",
       "      <th>Religion</th>\n",
       "    </tr>\n",
       "  </thead>\n",
       "  <tbody>\n",
       "    <tr>\n",
       "      <th>0</th>\n",
       "      <td>1</td>\n",
       "      <td>Christmas Street</td>\n",
       "      <td>Kerry</td>\n",
       "      <td>Jones</td>\n",
       "      <td>34</td>\n",
       "      <td>Head</td>\n",
       "      <td>Married</td>\n",
       "      <td>Female</td>\n",
       "      <td>Mechanical engineer</td>\n",
       "      <td>None</td>\n",
       "      <td>None</td>\n",
       "    </tr>\n",
       "    <tr>\n",
       "      <th>1</th>\n",
       "      <td>1</td>\n",
       "      <td>Christmas Street</td>\n",
       "      <td>Allan</td>\n",
       "      <td>Collins</td>\n",
       "      <td>36</td>\n",
       "      <td>Husband</td>\n",
       "      <td>Married</td>\n",
       "      <td>Male</td>\n",
       "      <td>Ranger/warden</td>\n",
       "      <td>None</td>\n",
       "      <td>None</td>\n",
       "    </tr>\n",
       "    <tr>\n",
       "      <th>2</th>\n",
       "      <td>2</td>\n",
       "      <td>Christmas Street</td>\n",
       "      <td>Michelle</td>\n",
       "      <td>Davies</td>\n",
       "      <td>74</td>\n",
       "      <td>Head</td>\n",
       "      <td>Widowed</td>\n",
       "      <td>Female</td>\n",
       "      <td>Retired Oncologist</td>\n",
       "      <td>None</td>\n",
       "      <td>Christian</td>\n",
       "    </tr>\n",
       "    <tr>\n",
       "      <th>3</th>\n",
       "      <td>2</td>\n",
       "      <td>Christmas Street</td>\n",
       "      <td>Jonathan</td>\n",
       "      <td>Davies</td>\n",
       "      <td>41</td>\n",
       "      <td>Son</td>\n",
       "      <td>Divorced</td>\n",
       "      <td>Male</td>\n",
       "      <td>Ceramics designer</td>\n",
       "      <td>None</td>\n",
       "      <td>Christian</td>\n",
       "    </tr>\n",
       "    <tr>\n",
       "      <th>4</th>\n",
       "      <td>2</td>\n",
       "      <td>Christmas Street</td>\n",
       "      <td>Paige</td>\n",
       "      <td>Davies</td>\n",
       "      <td>39</td>\n",
       "      <td>Daughter</td>\n",
       "      <td>Widowed</td>\n",
       "      <td>Female</td>\n",
       "      <td>Unemployed</td>\n",
       "      <td>None</td>\n",
       "      <td>Christian</td>\n",
       "    </tr>\n",
       "  </tbody>\n",
       "</table>\n",
       "</div>"
      ],
      "text/plain": [
       "   House Number            Street First Name  Surname Age  \\\n",
       "0             1  Christmas Street      Kerry    Jones  34   \n",
       "1             1  Christmas Street      Allan  Collins  36   \n",
       "2             2  Christmas Street   Michelle   Davies  74   \n",
       "3             2  Christmas Street   Jonathan   Davies  41   \n",
       "4             2  Christmas Street      Paige   Davies  39   \n",
       "\n",
       "  Relationship to Head of House Marital Status  Gender           Occupation  \\\n",
       "0                          Head        Married  Female  Mechanical engineer   \n",
       "1                       Husband        Married    Male        Ranger/warden   \n",
       "2                          Head        Widowed  Female   Retired Oncologist   \n",
       "3                           Son       Divorced    Male    Ceramics designer   \n",
       "4                      Daughter        Widowed  Female           Unemployed   \n",
       "\n",
       "  Infirmity   Religion  \n",
       "0      None       None  \n",
       "1      None       None  \n",
       "2      None  Christian  \n",
       "3      None  Christian  \n",
       "4      None  Christian  "
      ]
     },
     "execution_count": 2,
     "metadata": {},
     "output_type": "execute_result"
    }
   ],
   "source": [
    "# Let's get our census data.\n",
    "census_df = pd.read_csv(\"./census_10_2022.csv\",index_col=0) \n",
    "\n",
    "# Let's create a copy of the dataframe 'census_c_df' so we can still have the original while we clean.\n",
    "census_c_df = census_df.copy() \n",
    "\n",
    "# Let's print the first five(5) lines of our raw census data.\n",
    "census_df.head()      "
   ]
  },
  {
   "cell_type": "code",
   "execution_count": 3,
   "id": "2cbb38e4",
   "metadata": {
    "scrolled": false
   },
   "outputs": [
    {
     "name": "stdout",
     "output_type": "stream",
     "text": [
      "<class 'pandas.core.frame.DataFrame'>\n",
      "Int64Index: 7260 entries, 0 to 7259\n",
      "Data columns (total 11 columns):\n",
      " #   Column                         Non-Null Count  Dtype \n",
      "---  ------                         --------------  ----- \n",
      " 0   House Number                   7260 non-null   int64 \n",
      " 1   Street                         7260 non-null   object\n",
      " 2   First Name                     7260 non-null   object\n",
      " 3   Surname                        7260 non-null   object\n",
      " 4   Age                            7260 non-null   object\n",
      " 5   Relationship to Head of House  7260 non-null   object\n",
      " 6   Marital Status                 5628 non-null   object\n",
      " 7   Gender                         7260 non-null   object\n",
      " 8   Occupation                     7260 non-null   object\n",
      " 9   Infirmity                      7260 non-null   object\n",
      " 10  Religion                       5596 non-null   object\n",
      "dtypes: int64(1), object(10)\n",
      "memory usage: 680.6+ KB\n"
     ]
    }
   ],
   "source": [
    "\"\"\"\n",
    "ISSUES DEETECTED FROM .INFO() ARE:\n",
    "1. THERE ARE NULL VALUES IN OUR DATA SET IN COLUMN 'Marital Status' AND 'Religion'.\n",
    "2. COLOUMN 'Age' SHOULD BE OF VALUE TYPE INTEGER.\n",
    "\n",
    "\"\"\"\n",
    "census_df.info()   "
   ]
  },
  {
   "cell_type": "code",
   "execution_count": 4,
   "id": "2946a9cc",
   "metadata": {
    "scrolled": false
   },
   "outputs": [
    {
     "data": {
      "text/plain": [
       "array(['34', '36', '74', '41', '39', '35', '29', '66', '64', '72', '9',\n",
       "       '38', '7', '6', '5', '75', '15', '67', '0', '59', '14', '32', '37',\n",
       "       '4', '1', '28', '31', '47', '42', '73', '44', '43', '30', '2',\n",
       "       '46', '50', '24', '20', '17', '70', '48', '21', '56', '10', '12',\n",
       "       '33', '63', '79', '81', '19', '18', '49', '22', '86', '83', '55',\n",
       "       '69', '82', '40', '3', '11', '57', '61', '23', '8', '77', '80',\n",
       "       '25', '71', '84', '68', '52', '27', '62', '78', '65', '26', '53',\n",
       "       '60', '54', '58', '76', '88', '91', '51', '45', '16', '105', '13',\n",
       "       '90', '89', '92', '85', '67.99876364', '70.99876364', '87', '99',\n",
       "       '100', '101', '71.11459116', '58.33545959', '80.42115361',\n",
       "       '88.42115361', '107', '102', '94', '93', '104', '97', '95', '96',\n",
       "       ' ', '54.83603273', '78.62792347', '110', 'four', 'three', 'one'],\n",
       "      dtype=object)"
      ]
     },
     "execution_count": 4,
     "metadata": {},
     "output_type": "execute_result"
    }
   ],
   "source": [
    "# Since age is a categorical data with limited values, the unique method helps us see all unique data at a goal.\n",
    "\n",
    "census_df['Age'].unique()  "
   ]
  },
  {
   "cell_type": "code",
   "execution_count": 5,
   "id": "c24fb003",
   "metadata": {},
   "outputs": [
    {
     "data": {
      "text/html": [
       "<div>\n",
       "<style scoped>\n",
       "    .dataframe tbody tr th:only-of-type {\n",
       "        vertical-align: middle;\n",
       "    }\n",
       "\n",
       "    .dataframe tbody tr th {\n",
       "        vertical-align: top;\n",
       "    }\n",
       "\n",
       "    .dataframe thead th {\n",
       "        text-align: right;\n",
       "    }\n",
       "</style>\n",
       "<table border=\"1\" class=\"dataframe\">\n",
       "  <thead>\n",
       "    <tr style=\"text-align: right;\">\n",
       "      <th></th>\n",
       "      <th>House Number</th>\n",
       "      <th>Street</th>\n",
       "      <th>First Name</th>\n",
       "      <th>Surname</th>\n",
       "      <th>Age</th>\n",
       "      <th>Relationship to Head of House</th>\n",
       "      <th>Marital Status</th>\n",
       "      <th>Gender</th>\n",
       "      <th>Occupation</th>\n",
       "      <th>Infirmity</th>\n",
       "      <th>Religion</th>\n",
       "    </tr>\n",
       "  </thead>\n",
       "  <tbody>\n",
       "    <tr>\n",
       "      <th>4866</th>\n",
       "      <td>7</td>\n",
       "      <td>Holmes Points</td>\n",
       "      <td>Mitchell</td>\n",
       "      <td>Smith</td>\n",
       "      <td></td>\n",
       "      <td>Lodger</td>\n",
       "      <td>Divorced</td>\n",
       "      <td>Male</td>\n",
       "      <td>Sales professional, IT</td>\n",
       "      <td>None</td>\n",
       "      <td>Methodist</td>\n",
       "    </tr>\n",
       "  </tbody>\n",
       "</table>\n",
       "</div>"
      ],
      "text/plain": [
       "      House Number         Street First Name Surname Age  \\\n",
       "4866             7  Holmes Points   Mitchell   Smith       \n",
       "\n",
       "     Relationship to Head of House Marital Status Gender  \\\n",
       "4866                        Lodger       Divorced   Male   \n",
       "\n",
       "                  Occupation Infirmity   Religion  \n",
       "4866  Sales professional, IT      None  Methodist  "
      ]
     },
     "execution_count": 5,
     "metadata": {},
     "output_type": "execute_result"
    }
   ],
   "source": [
    "# I will like to investigate the blanks.\n",
    "\n",
    "census_df[census_df['Age'] == \" \"]"
   ]
  },
  {
   "cell_type": "code",
   "execution_count": 6,
   "id": "a77f387c",
   "metadata": {},
   "outputs": [
    {
     "data": {
      "text/plain": [
       "array([ 34,  36,  74,  41,  39,  35,  29,  66,  64,  72,   9,  38,   7,\n",
       "         6,   5,  75,  15,  67,   0,  59,  14,  32,  37,   4,   1,  28,\n",
       "        31,  47,  42,  73,  44,  43,  30,   2,  46,  50,  24,  20,  17,\n",
       "        70,  48,  21,  56,  10,  12,  33,  63,  79,  81,  19,  18,  49,\n",
       "        22,  86,  83,  55,  69,  82,  40,   3,  11,  57,  61,  23,   8,\n",
       "        77,  80,  25,  71,  84,  68,  52,  27,  62,  78,  65,  26,  53,\n",
       "        60,  54,  58,  76,  88,  91,  51,  45,  16, 105,  13,  90,  89,\n",
       "        92,  85,  87,  99, 100, 101, 107, 102,  94,  93, 104,  97,  95,\n",
       "        96, 110], dtype=int64)"
      ]
     },
     "execution_count": 6,
     "metadata": {},
     "output_type": "execute_result"
    }
   ],
   "source": [
    "# Cleaning data for the 'Age' column.\n",
    "\n",
    "divorced_mode = int(census_df[census_df['Marital Status'] == \"Divorced\"]['Age'].mode())\n",
    "\n",
    "census_df['Age'].replace({'one': 1, 'three': 3, 'four': 4, ' ': divorced_mode }, inplace = True)\n",
    "\n",
    "census_df['Age'] = pd.to_numeric(census_df['Age'])\n",
    "\n",
    "census_df['Age'] = census_df['Age'].apply(np.int64)\n",
    "\n",
    "census_df['Age'].unique()"
   ]
  },
  {
   "cell_type": "code",
   "execution_count": 7,
   "id": "b65d1089",
   "metadata": {},
   "outputs": [
    {
     "data": {
      "text/plain": [
       "Single      2431\n",
       "Married     2135\n",
       "NaN         1632\n",
       "Divorced     672\n",
       "Widowed      367\n",
       "S              8\n",
       "M              7\n",
       "D              4\n",
       "W              3\n",
       "               1\n",
       "Name: Marital Status, dtype: int64"
      ]
     },
     "execution_count": 7,
     "metadata": {},
     "output_type": "execute_result"
    }
   ],
   "source": [
    "# Let's look into the Marital Status column.\n",
    "\n",
    "census_df['Marital Status'].value_counts(dropna=False)"
   ]
  },
  {
   "cell_type": "code",
   "execution_count": 8,
   "id": "c138b81c",
   "metadata": {},
   "outputs": [
    {
     "data": {
      "text/plain": [
       "Single      2439\n",
       "Married     2142\n",
       "(Minor)     1633\n",
       "Divorced     676\n",
       "Widowed      370\n",
       "Name: Marital Status, dtype: int64"
      ]
     },
     "execution_count": 8,
     "metadata": {},
     "output_type": "execute_result"
    }
   ],
   "source": [
    "# Let's Clean the Marital Status column.\n",
    "\n",
    "if_minor = np.where((census_df['Age'] < 18),'(Minor)',census_df['Marital Status'])\n",
    "\n",
    "census_df['Marital Status'].replace(\n",
    "    \n",
    "    {\n",
    "        'S' : 'Single', 'M' : 'Married', 'D' : 'Divorced', 'W' : 'Widowed', ' ' : if_minor, np.nan : if_minor\n",
    "        \n",
    "    }, inplace = True)\n",
    "\n",
    "census_df['Marital Status'].value_counts(dropna=False)"
   ]
  },
  {
   "cell_type": "code",
   "execution_count": 9,
   "id": "d1112d90",
   "metadata": {},
   "outputs": [
    {
     "data": {
      "text/plain": [
       "None         2514\n",
       "Christian    1691\n",
       "NaN          1664\n",
       "Catholic      752\n",
       "Methodist     486\n",
       "Muslim         84\n",
       "Sikh           41\n",
       "Jewish         19\n",
       "Pagan           3\n",
       "Sith            2\n",
       "Quaker          2\n",
       "Nope            1\n",
       "                1\n",
       "Name: Religion, dtype: int64"
      ]
     },
     "execution_count": 9,
     "metadata": {},
     "output_type": "execute_result"
    }
   ],
   "source": [
    "# Let's look into the Religion column.\n",
    "\n",
    "census_df['Religion'].value_counts(dropna=False)"
   ]
  },
  {
   "cell_type": "code",
   "execution_count": 10,
   "id": "d177e974",
   "metadata": {},
   "outputs": [
    {
     "data": {
      "text/plain": [
       "None                                  4182\n",
       "Christianity (Other Denominations)    1691\n",
       "Christianity (Catholic)                752\n",
       "Christianity (Methodist)               486\n",
       "Islam                                   84\n",
       "Sikhism                                 41\n",
       "Judaism                                 19\n",
       "Paganism                                 3\n",
       "Christianity (Quaker)                    2\n",
       "Name: Religion, dtype: int64"
      ]
     },
     "execution_count": 10,
     "metadata": {},
     "output_type": "execute_result"
    }
   ],
   "source": [
    "# From the data on religion, nope, blanks and NaN should be assigned to None.\n",
    "\n",
    "census_df['Religion'].replace([' ', 'Sith', 'Nope', np.nan], 'None', inplace = True)\n",
    "\n",
    "census_df['Religion'].replace(['Christian','Catholic','Methodist','Quaker'], ['Christianity (Other Denominations)', 'Christianity (Catholic)', 'Christianity (Methodist)','Christianity (Quaker)'], inplace = True)\n",
    "\n",
    "census_df['Religion'].replace(['Muslim', 'Sikh', 'Jewish', 'Pagan'],['Islam', 'Sikhism','Judaism', 'Paganism'], inplace = True)\n",
    "\n",
    "\n",
    "census_df['Religion'].value_counts(dropna=False)"
   ]
  },
  {
   "cell_type": "code",
   "execution_count": 11,
   "id": "ce15cf7d",
   "metadata": {},
   "outputs": [
    {
     "data": {
      "text/plain": [
       "array(['Female', 'Male', 'm', 'male', 'female', 'M', 'f', 'F'],\n",
       "      dtype=object)"
      ]
     },
     "execution_count": 11,
     "metadata": {},
     "output_type": "execute_result"
    }
   ],
   "source": [
    "# Let's look at the unique values in gender.\n",
    "\n",
    "census_df['Gender'].unique()"
   ]
  },
  {
   "cell_type": "code",
   "execution_count": 12,
   "id": "9837e7e1",
   "metadata": {},
   "outputs": [
    {
     "data": {
      "text/plain": [
       "array(['Female', 'Male'], dtype=object)"
      ]
     },
     "execution_count": 12,
     "metadata": {},
     "output_type": "execute_result"
    }
   ],
   "source": [
    "# Let's clean our data for the Gender column.\n",
    "\n",
    "census_df['Gender'].replace(\n",
    "    \n",
    "    census_df['Gender'].unique(), \n",
    "    \n",
    "    ['Female' if i[0].upper()=='F' else 'Male'for i in census_df['Gender'].unique() ],\n",
    "    \n",
    "    inplace = True)\n",
    "\n",
    "\n",
    "census_df['Gender'].unique()"
   ]
  },
  {
   "cell_type": "code",
   "execution_count": 13,
   "id": "a7294ff0",
   "metadata": {},
   "outputs": [
    {
     "data": {
      "text/plain": [
       "array(['Head', 'Husband', 'Son', 'Daughter', 'Wife', 'Lodger', 'Partner',\n",
       "       'None', 'Grandson', 'Step-Daughter', 'Granddaughter', 'Step-Son',\n",
       "       'Nephew', 'Neice', 'Sibling', 'Adopted Daughter', 'Adopted Son',\n",
       "       'Cousin', 'Visitor', 'Son-in-law', 'Adopted Grandson', ' '],\n",
       "      dtype=object)"
      ]
     },
     "execution_count": 13,
     "metadata": {},
     "output_type": "execute_result"
    }
   ],
   "source": [
    "# Let's look at the unique values in Relationship to Head of House.\n",
    "\n",
    "census_df['Relationship to Head of House'].unique()"
   ]
  },
  {
   "cell_type": "code",
   "execution_count": 14,
   "id": "af7709d0",
   "metadata": {},
   "outputs": [
    {
     "data": {
      "text/plain": [
       "array(['Head', 'Husband', 'Son', 'Daughter', 'Wife', 'Lodger', 'Partner',\n",
       "       'None', 'Grandson', 'Step-Daughter', 'Granddaughter', 'Step-Son',\n",
       "       'Nephew', 'Niece', 'Sibling', 'Adopted Daughter', 'Adopted Son',\n",
       "       'Cousin', 'Visitor', 'Son-in-law', 'Adopted Grandson', ' '],\n",
       "      dtype=object)"
      ]
     },
     "execution_count": 14,
     "metadata": {},
     "output_type": "execute_result"
    }
   ],
   "source": [
    "# Let's correct the miss spelt value 'Neice'.\n",
    "\n",
    "census_df['Relationship to Head of House'].replace('Neice', 'Niece', inplace = True)\n",
    "\n",
    "census_df['Relationship to Head of House'].unique()"
   ]
  },
  {
   "cell_type": "code",
   "execution_count": 15,
   "id": "24e262a6",
   "metadata": {},
   "outputs": [
    {
     "name": "stdout",
     "output_type": "stream",
     "text": [
      "<class 'pandas.core.frame.DataFrame'>\n",
      "Int64Index: 7260 entries, 0 to 7259\n",
      "Data columns (total 11 columns):\n",
      " #   Column                         Non-Null Count  Dtype \n",
      "---  ------                         --------------  ----- \n",
      " 0   House Number                   7260 non-null   int64 \n",
      " 1   Street                         7260 non-null   object\n",
      " 2   First Name                     7260 non-null   object\n",
      " 3   Surname                        7260 non-null   object\n",
      " 4   Age                            7260 non-null   int64 \n",
      " 5   Relationship to Head of House  7260 non-null   object\n",
      " 6   Marital Status                 7260 non-null   object\n",
      " 7   Gender                         7260 non-null   object\n",
      " 8   Occupation                     7260 non-null   object\n",
      " 9   Infirmity                      7260 non-null   object\n",
      " 10  Religion                       7260 non-null   object\n",
      "dtypes: int64(2), object(9)\n",
      "memory usage: 680.6+ KB\n"
     ]
    }
   ],
   "source": [
    "# Now we have filled our data, let's investigate the whole data column by column.\n",
    "\n",
    "census_df.info()  "
   ]
  },
  {
   "cell_type": "markdown",
   "id": "70dfacf3",
   "metadata": {},
   "source": [
    "### Checker and Comparison Function or Sniff Testing Functions\n",
    "Three functions will be created to aid us in data cleaning and data analysis. \n",
    "\n",
    "These functions are the address checker function, blank-nan checker function and underage-comparison function. \n",
    "\n",
    "They help to revalidate and to give a certain degree of confidence about your cleaned data before proceeding further."
   ]
  },
  {
   "cell_type": "code",
   "execution_count": 16,
   "id": "7af73c86",
   "metadata": {},
   "outputs": [
    {
     "data": {
      "text/plain": [
       "[None,\n",
       " None,\n",
       " None,\n",
       " \"Check column name 'Surname' for blanks or nan\",\n",
       " None,\n",
       " \"Check column name 'Relationship to Head of House' for blanks or nan\",\n",
       " None,\n",
       " None,\n",
       " \"Check column name 'Occupation' for blanks or nan\",\n",
       " \"Check column name 'Infirmity' for blanks or nan\",\n",
       " None]"
      ]
     },
     "execution_count": 16,
     "metadata": {},
     "output_type": "execute_result"
    }
   ],
   "source": [
    "# Let's create some functions to help simplify our data cleaning task.\n",
    "\n",
    "# Sniff testing functions.\n",
    "            \n",
    "            \n",
    "def address_checker(number,street):\n",
    "    \n",
    "    \"\"\"\n",
    "    This function will help us\n",
    "    know occupants in a certain locaton.\n",
    "    \n",
    "    \"\"\"\n",
    "    \n",
    "    result = census_df[(census_df['House Number'] == int(number)) & (census_df['Street'] == str(street))]\n",
    "    return result \n",
    "\n",
    "def under_age_comparison(column_to_compare):\n",
    "    \n",
    "    \"\"\"\n",
    "    This will compare underage\n",
    "    with sensitive columns\n",
    "    \n",
    "    \"\"\"\n",
    "    result = census_df[census_df['Age'] < 18][column_to_compare].value_counts(dropna=False)\n",
    "    return result\n",
    "\n",
    "\n",
    "def blank_nan_checker(column_name):\n",
    "    \n",
    "    \"\"\"\n",
    "    A function that detects blanks\n",
    "    or NaN values in a single column.\n",
    "    \n",
    "    \"\"\"\n",
    "    \n",
    "    column = census_df[column_name] \n",
    "    \n",
    "    for i in column:\n",
    "        \n",
    "        if i == np.nan or i == \" \" or i == \"\":\n",
    "            return f\"Check column name '{column_name}' for blanks or nan\"\n",
    "            break   \n",
    "\n",
    "\n",
    "def blank_nan_checker_all():\n",
    "    \n",
    "    \"\"\"\n",
    "    A function that detects blanks\n",
    "    or NaN values in all columns by \n",
    "    calling the blank_nan_checker().\n",
    "    \n",
    "    \"\"\"\n",
    "    result = []\n",
    "    for i in range(len(census_df.columns)):\n",
    "        \n",
    "        result.append(blank_nan_checker(census_df.columns[i]))\n",
    "        \n",
    "    return result   \n",
    "\n",
    "\n",
    "# Let's find out if there are 'Blanks or NaN' in any of our columns.\n",
    "\n",
    "blank_nan_checker_all()"
   ]
  },
  {
   "cell_type": "code",
   "execution_count": 17,
   "id": "942e0460",
   "metadata": {},
   "outputs": [
    {
     "data": {
      "text/html": [
       "<div>\n",
       "<style scoped>\n",
       "    .dataframe tbody tr th:only-of-type {\n",
       "        vertical-align: middle;\n",
       "    }\n",
       "\n",
       "    .dataframe tbody tr th {\n",
       "        vertical-align: top;\n",
       "    }\n",
       "\n",
       "    .dataframe thead th {\n",
       "        text-align: right;\n",
       "    }\n",
       "</style>\n",
       "<table border=\"1\" class=\"dataframe\">\n",
       "  <thead>\n",
       "    <tr style=\"text-align: right;\">\n",
       "      <th></th>\n",
       "      <th>House Number</th>\n",
       "      <th>Street</th>\n",
       "      <th>First Name</th>\n",
       "      <th>Surname</th>\n",
       "      <th>Age</th>\n",
       "      <th>Relationship to Head of House</th>\n",
       "      <th>Marital Status</th>\n",
       "      <th>Gender</th>\n",
       "      <th>Occupation</th>\n",
       "      <th>Infirmity</th>\n",
       "      <th>Religion</th>\n",
       "    </tr>\n",
       "  </thead>\n",
       "  <tbody>\n",
       "    <tr>\n",
       "      <th>5081</th>\n",
       "      <td>13</td>\n",
       "      <td>Iris Landing</td>\n",
       "      <td>Anne</td>\n",
       "      <td>Alexander</td>\n",
       "      <td>34</td>\n",
       "      <td>Head</td>\n",
       "      <td>Divorced</td>\n",
       "      <td>Female</td>\n",
       "      <td>Make</td>\n",
       "      <td>None</td>\n",
       "      <td>Christianity (Other Denominations)</td>\n",
       "    </tr>\n",
       "    <tr>\n",
       "      <th>5082</th>\n",
       "      <td>13</td>\n",
       "      <td>Iris Landing</td>\n",
       "      <td>Garry</td>\n",
       "      <td></td>\n",
       "      <td>43</td>\n",
       "      <td>Lodger</td>\n",
       "      <td>Single</td>\n",
       "      <td>Male</td>\n",
       "      <td>Surveyor, land/geomatics</td>\n",
       "      <td>None</td>\n",
       "      <td>Christianity (Other Denominations)</td>\n",
       "    </tr>\n",
       "    <tr>\n",
       "      <th>5083</th>\n",
       "      <td>13</td>\n",
       "      <td>Iris Landing</td>\n",
       "      <td>Grace</td>\n",
       "      <td>Chambers</td>\n",
       "      <td>51</td>\n",
       "      <td>Sibling</td>\n",
       "      <td>Divorced</td>\n",
       "      <td>Female</td>\n",
       "      <td>Mudlogger</td>\n",
       "      <td>None</td>\n",
       "      <td>None</td>\n",
       "    </tr>\n",
       "  </tbody>\n",
       "</table>\n",
       "</div>"
      ],
      "text/plain": [
       "      House Number        Street First Name    Surname  Age  \\\n",
       "5081            13  Iris Landing       Anne  Alexander   34   \n",
       "5082            13  Iris Landing      Garry              43   \n",
       "5083            13  Iris Landing      Grace   Chambers   51   \n",
       "\n",
       "     Relationship to Head of House Marital Status  Gender  \\\n",
       "5081                          Head       Divorced  Female   \n",
       "5082                        Lodger         Single    Male   \n",
       "5083                       Sibling       Divorced  Female   \n",
       "\n",
       "                    Occupation Infirmity                            Religion  \n",
       "5081                      Make      None  Christianity (Other Denominations)  \n",
       "5082  Surveyor, land/geomatics      None  Christianity (Other Denominations)  \n",
       "5083                 Mudlogger      None                                None  "
      ]
     },
     "execution_count": 17,
     "metadata": {},
     "output_type": "execute_result"
    }
   ],
   "source": [
    "# Using address_checker() function.\n",
    "\n",
    "address_checker(13,'Iris Landing')"
   ]
  },
  {
   "cell_type": "code",
   "execution_count": 18,
   "id": "ca29a393",
   "metadata": {},
   "outputs": [
    {
     "data": {
      "text/html": [
       "<div>\n",
       "<style scoped>\n",
       "    .dataframe tbody tr th:only-of-type {\n",
       "        vertical-align: middle;\n",
       "    }\n",
       "\n",
       "    .dataframe tbody tr th {\n",
       "        vertical-align: top;\n",
       "    }\n",
       "\n",
       "    .dataframe thead th {\n",
       "        text-align: right;\n",
       "    }\n",
       "</style>\n",
       "<table border=\"1\" class=\"dataframe\">\n",
       "  <thead>\n",
       "    <tr style=\"text-align: right;\">\n",
       "      <th></th>\n",
       "      <th>House Number</th>\n",
       "      <th>Street</th>\n",
       "      <th>First Name</th>\n",
       "      <th>Surname</th>\n",
       "      <th>Age</th>\n",
       "      <th>Relationship to Head of House</th>\n",
       "      <th>Marital Status</th>\n",
       "      <th>Gender</th>\n",
       "      <th>Occupation</th>\n",
       "      <th>Infirmity</th>\n",
       "      <th>Religion</th>\n",
       "    </tr>\n",
       "  </thead>\n",
       "  <tbody>\n",
       "    <tr>\n",
       "      <th>5081</th>\n",
       "      <td>13</td>\n",
       "      <td>Iris Landing</td>\n",
       "      <td>Anne</td>\n",
       "      <td>Alexander</td>\n",
       "      <td>34</td>\n",
       "      <td>Head</td>\n",
       "      <td>Divorced</td>\n",
       "      <td>Female</td>\n",
       "      <td>Make</td>\n",
       "      <td>None</td>\n",
       "      <td>Christianity (Other Denominations)</td>\n",
       "    </tr>\n",
       "    <tr>\n",
       "      <th>5082</th>\n",
       "      <td>13</td>\n",
       "      <td>Iris Landing</td>\n",
       "      <td>Garry</td>\n",
       "      <td>(Unknown)</td>\n",
       "      <td>43</td>\n",
       "      <td>Lodger</td>\n",
       "      <td>Single</td>\n",
       "      <td>Male</td>\n",
       "      <td>Surveyor, land/geomatics</td>\n",
       "      <td>None</td>\n",
       "      <td>Christianity (Other Denominations)</td>\n",
       "    </tr>\n",
       "    <tr>\n",
       "      <th>5083</th>\n",
       "      <td>13</td>\n",
       "      <td>Iris Landing</td>\n",
       "      <td>Grace</td>\n",
       "      <td>Chambers</td>\n",
       "      <td>51</td>\n",
       "      <td>Sibling</td>\n",
       "      <td>Divorced</td>\n",
       "      <td>Female</td>\n",
       "      <td>Mudlogger</td>\n",
       "      <td>None</td>\n",
       "      <td>None</td>\n",
       "    </tr>\n",
       "  </tbody>\n",
       "</table>\n",
       "</div>"
      ],
      "text/plain": [
       "      House Number        Street First Name    Surname  Age  \\\n",
       "5081            13  Iris Landing       Anne  Alexander   34   \n",
       "5082            13  Iris Landing      Garry  (Unknown)   43   \n",
       "5083            13  Iris Landing      Grace   Chambers   51   \n",
       "\n",
       "     Relationship to Head of House Marital Status  Gender  \\\n",
       "5081                          Head       Divorced  Female   \n",
       "5082                        Lodger         Single    Male   \n",
       "5083                       Sibling       Divorced  Female   \n",
       "\n",
       "                    Occupation Infirmity                            Religion  \n",
       "5081                      Make      None  Christianity (Other Denominations)  \n",
       "5082  Surveyor, land/geomatics      None  Christianity (Other Denominations)  \n",
       "5083                 Mudlogger      None                                None  "
      ]
     },
     "execution_count": 18,
     "metadata": {},
     "output_type": "execute_result"
    }
   ],
   "source": [
    "# Using address_checker() function.\n",
    "\n",
    "census_df['Surname'].replace(' ', '(Unknown)', inplace = True)\n",
    "\n",
    "address_checker(13,'Iris Landing')"
   ]
  },
  {
   "cell_type": "code",
   "execution_count": 19,
   "id": "9b38d430",
   "metadata": {
    "scrolled": true
   },
   "outputs": [
    {
     "data": {
      "text/html": [
       "<div>\n",
       "<style scoped>\n",
       "    .dataframe tbody tr th:only-of-type {\n",
       "        vertical-align: middle;\n",
       "    }\n",
       "\n",
       "    .dataframe tbody tr th {\n",
       "        vertical-align: top;\n",
       "    }\n",
       "\n",
       "    .dataframe thead th {\n",
       "        text-align: right;\n",
       "    }\n",
       "</style>\n",
       "<table border=\"1\" class=\"dataframe\">\n",
       "  <thead>\n",
       "    <tr style=\"text-align: right;\">\n",
       "      <th></th>\n",
       "      <th>House Number</th>\n",
       "      <th>Street</th>\n",
       "      <th>First Name</th>\n",
       "      <th>Surname</th>\n",
       "      <th>Age</th>\n",
       "      <th>Relationship to Head of House</th>\n",
       "      <th>Marital Status</th>\n",
       "      <th>Gender</th>\n",
       "      <th>Occupation</th>\n",
       "      <th>Infirmity</th>\n",
       "      <th>Religion</th>\n",
       "    </tr>\n",
       "  </thead>\n",
       "  <tbody>\n",
       "    <tr>\n",
       "      <th>6864</th>\n",
       "      <td>31</td>\n",
       "      <td>Jackson Lane</td>\n",
       "      <td>Diana</td>\n",
       "      <td>Hayward</td>\n",
       "      <td>38</td>\n",
       "      <td>Head</td>\n",
       "      <td>Married</td>\n",
       "      <td>Female</td>\n",
       "      <td>Estate manager/land agent</td>\n",
       "      <td>None</td>\n",
       "      <td>None</td>\n",
       "    </tr>\n",
       "    <tr>\n",
       "      <th>6865</th>\n",
       "      <td>31</td>\n",
       "      <td>Jackson Lane</td>\n",
       "      <td>Keith</td>\n",
       "      <td>Hayward</td>\n",
       "      <td>40</td>\n",
       "      <td>Husband</td>\n",
       "      <td>Married</td>\n",
       "      <td>Male</td>\n",
       "      <td>Artist</td>\n",
       "      <td>None</td>\n",
       "      <td>None</td>\n",
       "    </tr>\n",
       "    <tr>\n",
       "      <th>6866</th>\n",
       "      <td>31</td>\n",
       "      <td>Jackson Lane</td>\n",
       "      <td>June</td>\n",
       "      <td>Hayward</td>\n",
       "      <td>12</td>\n",
       "      <td>Daughter</td>\n",
       "      <td>(Minor)</td>\n",
       "      <td>Female</td>\n",
       "      <td>Student</td>\n",
       "      <td>None</td>\n",
       "      <td>None</td>\n",
       "    </tr>\n",
       "    <tr>\n",
       "      <th>6867</th>\n",
       "      <td>31</td>\n",
       "      <td>Jackson Lane</td>\n",
       "      <td>Mandy</td>\n",
       "      <td>Hayward</td>\n",
       "      <td>9</td>\n",
       "      <td>Daughter</td>\n",
       "      <td>(Minor)</td>\n",
       "      <td>Female</td>\n",
       "      <td>Student</td>\n",
       "      <td>None</td>\n",
       "      <td>None</td>\n",
       "    </tr>\n",
       "    <tr>\n",
       "      <th>6868</th>\n",
       "      <td>31</td>\n",
       "      <td>Jackson Lane</td>\n",
       "      <td>Victoria</td>\n",
       "      <td>Hayward</td>\n",
       "      <td>6</td>\n",
       "      <td>Daughter</td>\n",
       "      <td>(Minor)</td>\n",
       "      <td>Female</td>\n",
       "      <td>Student</td>\n",
       "      <td>None</td>\n",
       "      <td>None</td>\n",
       "    </tr>\n",
       "    <tr>\n",
       "      <th>6869</th>\n",
       "      <td>31</td>\n",
       "      <td>Jackson Lane</td>\n",
       "      <td>Phillip</td>\n",
       "      <td>Hayward</td>\n",
       "      <td>5</td>\n",
       "      <td>Son</td>\n",
       "      <td>(Minor)</td>\n",
       "      <td>Male</td>\n",
       "      <td>Student</td>\n",
       "      <td>None</td>\n",
       "      <td>None</td>\n",
       "    </tr>\n",
       "    <tr>\n",
       "      <th>6870</th>\n",
       "      <td>31</td>\n",
       "      <td>Jackson Lane</td>\n",
       "      <td>Christopher</td>\n",
       "      <td>Hayward</td>\n",
       "      <td>3</td>\n",
       "      <td>Son</td>\n",
       "      <td>(Minor)</td>\n",
       "      <td>Male</td>\n",
       "      <td>Child</td>\n",
       "      <td>None</td>\n",
       "      <td>None</td>\n",
       "    </tr>\n",
       "    <tr>\n",
       "      <th>6871</th>\n",
       "      <td>31</td>\n",
       "      <td>Jackson Lane</td>\n",
       "      <td>Sylvia</td>\n",
       "      <td>Moore</td>\n",
       "      <td>61</td>\n",
       "      <td>Sibling</td>\n",
       "      <td>Single</td>\n",
       "      <td>Female</td>\n",
       "      <td>Glass blower/designer</td>\n",
       "      <td>None</td>\n",
       "      <td>Christianity (Other Denominations)</td>\n",
       "    </tr>\n",
       "    <tr>\n",
       "      <th>6872</th>\n",
       "      <td>31</td>\n",
       "      <td>Jackson Lane</td>\n",
       "      <td>Elliot</td>\n",
       "      <td>Watts</td>\n",
       "      <td>27</td>\n",
       "      <td></td>\n",
       "      <td>Single</td>\n",
       "      <td>Male</td>\n",
       "      <td>Oceanographer</td>\n",
       "      <td>None</td>\n",
       "      <td>None</td>\n",
       "    </tr>\n",
       "    <tr>\n",
       "      <th>6873</th>\n",
       "      <td>31</td>\n",
       "      <td>Jackson Lane</td>\n",
       "      <td>Robin</td>\n",
       "      <td>Smith</td>\n",
       "      <td>58</td>\n",
       "      <td>Lodger</td>\n",
       "      <td>Single</td>\n",
       "      <td>Male</td>\n",
       "      <td>Patent attorney</td>\n",
       "      <td>None</td>\n",
       "      <td>Christianity (Methodist)</td>\n",
       "    </tr>\n",
       "  </tbody>\n",
       "</table>\n",
       "</div>"
      ],
      "text/plain": [
       "      House Number        Street   First Name  Surname  Age  \\\n",
       "6864            31  Jackson Lane        Diana  Hayward   38   \n",
       "6865            31  Jackson Lane        Keith  Hayward   40   \n",
       "6866            31  Jackson Lane         June  Hayward   12   \n",
       "6867            31  Jackson Lane        Mandy  Hayward    9   \n",
       "6868            31  Jackson Lane     Victoria  Hayward    6   \n",
       "6869            31  Jackson Lane      Phillip  Hayward    5   \n",
       "6870            31  Jackson Lane  Christopher  Hayward    3   \n",
       "6871            31  Jackson Lane       Sylvia    Moore   61   \n",
       "6872            31  Jackson Lane       Elliot    Watts   27   \n",
       "6873            31  Jackson Lane        Robin    Smith   58   \n",
       "\n",
       "     Relationship to Head of House Marital Status  Gender  \\\n",
       "6864                          Head        Married  Female   \n",
       "6865                       Husband        Married    Male   \n",
       "6866                      Daughter        (Minor)  Female   \n",
       "6867                      Daughter        (Minor)  Female   \n",
       "6868                      Daughter        (Minor)  Female   \n",
       "6869                           Son        (Minor)    Male   \n",
       "6870                           Son        (Minor)    Male   \n",
       "6871                       Sibling         Single  Female   \n",
       "6872                                       Single    Male   \n",
       "6873                        Lodger         Single    Male   \n",
       "\n",
       "                     Occupation Infirmity                            Religion  \n",
       "6864  Estate manager/land agent      None                                None  \n",
       "6865                     Artist      None                                None  \n",
       "6866                    Student      None                                None  \n",
       "6867                    Student      None                                None  \n",
       "6868                    Student      None                                None  \n",
       "6869                    Student      None                                None  \n",
       "6870                      Child      None                                None  \n",
       "6871      Glass blower/designer      None  Christianity (Other Denominations)  \n",
       "6872              Oceanographer      None                                None  \n",
       "6873            Patent attorney      None            Christianity (Methodist)  "
      ]
     },
     "execution_count": 19,
     "metadata": {},
     "output_type": "execute_result"
    }
   ],
   "source": [
    "# Using address_checker() function.\n",
    "\n",
    "address_checker(31,'Jackson Lane')"
   ]
  },
  {
   "cell_type": "code",
   "execution_count": 20,
   "id": "43ecc8b7",
   "metadata": {
    "scrolled": true
   },
   "outputs": [
    {
     "data": {
      "text/html": [
       "<div>\n",
       "<style scoped>\n",
       "    .dataframe tbody tr th:only-of-type {\n",
       "        vertical-align: middle;\n",
       "    }\n",
       "\n",
       "    .dataframe tbody tr th {\n",
       "        vertical-align: top;\n",
       "    }\n",
       "\n",
       "    .dataframe thead th {\n",
       "        text-align: right;\n",
       "    }\n",
       "</style>\n",
       "<table border=\"1\" class=\"dataframe\">\n",
       "  <thead>\n",
       "    <tr style=\"text-align: right;\">\n",
       "      <th></th>\n",
       "      <th>House Number</th>\n",
       "      <th>Street</th>\n",
       "      <th>First Name</th>\n",
       "      <th>Surname</th>\n",
       "      <th>Age</th>\n",
       "      <th>Relationship to Head of House</th>\n",
       "      <th>Marital Status</th>\n",
       "      <th>Gender</th>\n",
       "      <th>Occupation</th>\n",
       "      <th>Infirmity</th>\n",
       "      <th>Religion</th>\n",
       "    </tr>\n",
       "  </thead>\n",
       "  <tbody>\n",
       "    <tr>\n",
       "      <th>6864</th>\n",
       "      <td>31</td>\n",
       "      <td>Jackson Lane</td>\n",
       "      <td>Diana</td>\n",
       "      <td>Hayward</td>\n",
       "      <td>38</td>\n",
       "      <td>Head</td>\n",
       "      <td>Married</td>\n",
       "      <td>Female</td>\n",
       "      <td>Estate manager/land agent</td>\n",
       "      <td>None</td>\n",
       "      <td>None</td>\n",
       "    </tr>\n",
       "    <tr>\n",
       "      <th>6865</th>\n",
       "      <td>31</td>\n",
       "      <td>Jackson Lane</td>\n",
       "      <td>Keith</td>\n",
       "      <td>Hayward</td>\n",
       "      <td>40</td>\n",
       "      <td>Husband</td>\n",
       "      <td>Married</td>\n",
       "      <td>Male</td>\n",
       "      <td>Artist</td>\n",
       "      <td>None</td>\n",
       "      <td>None</td>\n",
       "    </tr>\n",
       "    <tr>\n",
       "      <th>6866</th>\n",
       "      <td>31</td>\n",
       "      <td>Jackson Lane</td>\n",
       "      <td>June</td>\n",
       "      <td>Hayward</td>\n",
       "      <td>12</td>\n",
       "      <td>Daughter</td>\n",
       "      <td>(Minor)</td>\n",
       "      <td>Female</td>\n",
       "      <td>Student</td>\n",
       "      <td>None</td>\n",
       "      <td>None</td>\n",
       "    </tr>\n",
       "    <tr>\n",
       "      <th>6867</th>\n",
       "      <td>31</td>\n",
       "      <td>Jackson Lane</td>\n",
       "      <td>Mandy</td>\n",
       "      <td>Hayward</td>\n",
       "      <td>9</td>\n",
       "      <td>Daughter</td>\n",
       "      <td>(Minor)</td>\n",
       "      <td>Female</td>\n",
       "      <td>Student</td>\n",
       "      <td>None</td>\n",
       "      <td>None</td>\n",
       "    </tr>\n",
       "    <tr>\n",
       "      <th>6868</th>\n",
       "      <td>31</td>\n",
       "      <td>Jackson Lane</td>\n",
       "      <td>Victoria</td>\n",
       "      <td>Hayward</td>\n",
       "      <td>6</td>\n",
       "      <td>Daughter</td>\n",
       "      <td>(Minor)</td>\n",
       "      <td>Female</td>\n",
       "      <td>Student</td>\n",
       "      <td>None</td>\n",
       "      <td>None</td>\n",
       "    </tr>\n",
       "    <tr>\n",
       "      <th>6869</th>\n",
       "      <td>31</td>\n",
       "      <td>Jackson Lane</td>\n",
       "      <td>Phillip</td>\n",
       "      <td>Hayward</td>\n",
       "      <td>5</td>\n",
       "      <td>Son</td>\n",
       "      <td>(Minor)</td>\n",
       "      <td>Male</td>\n",
       "      <td>Student</td>\n",
       "      <td>None</td>\n",
       "      <td>None</td>\n",
       "    </tr>\n",
       "    <tr>\n",
       "      <th>6870</th>\n",
       "      <td>31</td>\n",
       "      <td>Jackson Lane</td>\n",
       "      <td>Christopher</td>\n",
       "      <td>Hayward</td>\n",
       "      <td>3</td>\n",
       "      <td>Son</td>\n",
       "      <td>(Minor)</td>\n",
       "      <td>Male</td>\n",
       "      <td>Child</td>\n",
       "      <td>None</td>\n",
       "      <td>None</td>\n",
       "    </tr>\n",
       "    <tr>\n",
       "      <th>6871</th>\n",
       "      <td>31</td>\n",
       "      <td>Jackson Lane</td>\n",
       "      <td>Sylvia</td>\n",
       "      <td>Moore</td>\n",
       "      <td>61</td>\n",
       "      <td>Sibling</td>\n",
       "      <td>Single</td>\n",
       "      <td>Female</td>\n",
       "      <td>Glass blower/designer</td>\n",
       "      <td>None</td>\n",
       "      <td>Christianity (Other Denominations)</td>\n",
       "    </tr>\n",
       "    <tr>\n",
       "      <th>6872</th>\n",
       "      <td>31</td>\n",
       "      <td>Jackson Lane</td>\n",
       "      <td>Elliot</td>\n",
       "      <td>Watts</td>\n",
       "      <td>27</td>\n",
       "      <td>None</td>\n",
       "      <td>Single</td>\n",
       "      <td>Male</td>\n",
       "      <td>Oceanographer</td>\n",
       "      <td>None</td>\n",
       "      <td>None</td>\n",
       "    </tr>\n",
       "    <tr>\n",
       "      <th>6873</th>\n",
       "      <td>31</td>\n",
       "      <td>Jackson Lane</td>\n",
       "      <td>Robin</td>\n",
       "      <td>Smith</td>\n",
       "      <td>58</td>\n",
       "      <td>Lodger</td>\n",
       "      <td>Single</td>\n",
       "      <td>Male</td>\n",
       "      <td>Patent attorney</td>\n",
       "      <td>None</td>\n",
       "      <td>Christianity (Methodist)</td>\n",
       "    </tr>\n",
       "  </tbody>\n",
       "</table>\n",
       "</div>"
      ],
      "text/plain": [
       "      House Number        Street   First Name  Surname  Age  \\\n",
       "6864            31  Jackson Lane        Diana  Hayward   38   \n",
       "6865            31  Jackson Lane        Keith  Hayward   40   \n",
       "6866            31  Jackson Lane         June  Hayward   12   \n",
       "6867            31  Jackson Lane        Mandy  Hayward    9   \n",
       "6868            31  Jackson Lane     Victoria  Hayward    6   \n",
       "6869            31  Jackson Lane      Phillip  Hayward    5   \n",
       "6870            31  Jackson Lane  Christopher  Hayward    3   \n",
       "6871            31  Jackson Lane       Sylvia    Moore   61   \n",
       "6872            31  Jackson Lane       Elliot    Watts   27   \n",
       "6873            31  Jackson Lane        Robin    Smith   58   \n",
       "\n",
       "     Relationship to Head of House Marital Status  Gender  \\\n",
       "6864                          Head        Married  Female   \n",
       "6865                       Husband        Married    Male   \n",
       "6866                      Daughter        (Minor)  Female   \n",
       "6867                      Daughter        (Minor)  Female   \n",
       "6868                      Daughter        (Minor)  Female   \n",
       "6869                           Son        (Minor)    Male   \n",
       "6870                           Son        (Minor)    Male   \n",
       "6871                       Sibling         Single  Female   \n",
       "6872                          None         Single    Male   \n",
       "6873                        Lodger         Single    Male   \n",
       "\n",
       "                     Occupation Infirmity                            Religion  \n",
       "6864  Estate manager/land agent      None                                None  \n",
       "6865                     Artist      None                                None  \n",
       "6866                    Student      None                                None  \n",
       "6867                    Student      None                                None  \n",
       "6868                    Student      None                                None  \n",
       "6869                    Student      None                                None  \n",
       "6870                      Child      None                                None  \n",
       "6871      Glass blower/designer      None  Christianity (Other Denominations)  \n",
       "6872              Oceanographer      None                                None  \n",
       "6873            Patent attorney      None            Christianity (Methodist)  "
      ]
     },
     "execution_count": 20,
     "metadata": {},
     "output_type": "execute_result"
    }
   ],
   "source": [
    "# Filling blanks and reconfirming.\n",
    "\n",
    "census_df['Relationship to Head of House'].replace(' ', 'None', inplace = True)\n",
    "address_checker(31,'Jackson Lane')"
   ]
  },
  {
   "cell_type": "code",
   "execution_count": 21,
   "id": "c2d26ce7",
   "metadata": {},
   "outputs": [
    {
     "data": {
      "text/html": [
       "<div>\n",
       "<style scoped>\n",
       "    .dataframe tbody tr th:only-of-type {\n",
       "        vertical-align: middle;\n",
       "    }\n",
       "\n",
       "    .dataframe tbody tr th {\n",
       "        vertical-align: top;\n",
       "    }\n",
       "\n",
       "    .dataframe thead th {\n",
       "        text-align: right;\n",
       "    }\n",
       "</style>\n",
       "<table border=\"1\" class=\"dataframe\">\n",
       "  <thead>\n",
       "    <tr style=\"text-align: right;\">\n",
       "      <th></th>\n",
       "      <th>House Number</th>\n",
       "      <th>Street</th>\n",
       "      <th>First Name</th>\n",
       "      <th>Surname</th>\n",
       "      <th>Age</th>\n",
       "      <th>Relationship to Head of House</th>\n",
       "      <th>Marital Status</th>\n",
       "      <th>Gender</th>\n",
       "      <th>Occupation</th>\n",
       "      <th>Infirmity</th>\n",
       "      <th>Religion</th>\n",
       "    </tr>\n",
       "  </thead>\n",
       "  <tbody>\n",
       "    <tr>\n",
       "      <th>100</th>\n",
       "      <td>36</td>\n",
       "      <td>Christmas Street</td>\n",
       "      <td>Claire</td>\n",
       "      <td>Butler</td>\n",
       "      <td>86</td>\n",
       "      <td>Head</td>\n",
       "      <td>Widowed</td>\n",
       "      <td>Female</td>\n",
       "      <td>Unemployed</td>\n",
       "      <td>None</td>\n",
       "      <td>Christianity (Other Denominations)</td>\n",
       "    </tr>\n",
       "    <tr>\n",
       "      <th>150</th>\n",
       "      <td>4</td>\n",
       "      <td>Mistry Avenue</td>\n",
       "      <td>Bernard</td>\n",
       "      <td>Miller</td>\n",
       "      <td>74</td>\n",
       "      <td>Head</td>\n",
       "      <td>Divorced</td>\n",
       "      <td>Male</td>\n",
       "      <td>Unemployed</td>\n",
       "      <td>None</td>\n",
       "      <td>Christianity (Methodist)</td>\n",
       "    </tr>\n",
       "    <tr>\n",
       "      <th>220</th>\n",
       "      <td>10</td>\n",
       "      <td>Truro Lane</td>\n",
       "      <td>Lesley</td>\n",
       "      <td>Whitehead</td>\n",
       "      <td>75</td>\n",
       "      <td>Wife</td>\n",
       "      <td>Married</td>\n",
       "      <td>Female</td>\n",
       "      <td>Unemployed</td>\n",
       "      <td>None</td>\n",
       "      <td>None</td>\n",
       "    </tr>\n",
       "    <tr>\n",
       "      <th>230</th>\n",
       "      <td>17</td>\n",
       "      <td>Truro Lane</td>\n",
       "      <td>Alexandra</td>\n",
       "      <td>Lewis</td>\n",
       "      <td>66</td>\n",
       "      <td>Head</td>\n",
       "      <td>Married</td>\n",
       "      <td>Female</td>\n",
       "      <td>Unemployed</td>\n",
       "      <td>None</td>\n",
       "      <td>None</td>\n",
       "    </tr>\n",
       "    <tr>\n",
       "      <th>336</th>\n",
       "      <td>18</td>\n",
       "      <td>Railway Avenue</td>\n",
       "      <td>Amelia</td>\n",
       "      <td>Osborne</td>\n",
       "      <td>71</td>\n",
       "      <td>Head</td>\n",
       "      <td>Widowed</td>\n",
       "      <td>Female</td>\n",
       "      <td>Unemployed</td>\n",
       "      <td>None</td>\n",
       "      <td>Christianity (Catholic)</td>\n",
       "    </tr>\n",
       "  </tbody>\n",
       "</table>\n",
       "</div>"
      ],
      "text/plain": [
       "     House Number            Street First Name    Surname  Age  \\\n",
       "100            36  Christmas Street     Claire     Butler   86   \n",
       "150             4     Mistry Avenue    Bernard     Miller   74   \n",
       "220            10        Truro Lane     Lesley  Whitehead   75   \n",
       "230            17        Truro Lane  Alexandra      Lewis   66   \n",
       "336            18    Railway Avenue     Amelia    Osborne   71   \n",
       "\n",
       "    Relationship to Head of House Marital Status  Gender  Occupation  \\\n",
       "100                          Head        Widowed  Female  Unemployed   \n",
       "150                          Head       Divorced    Male  Unemployed   \n",
       "220                          Wife        Married  Female  Unemployed   \n",
       "230                          Head        Married  Female  Unemployed   \n",
       "336                          Head        Widowed  Female  Unemployed   \n",
       "\n",
       "    Infirmity                            Religion  \n",
       "100      None  Christianity (Other Denominations)  \n",
       "150      None            Christianity (Methodist)  \n",
       "220      None                                None  \n",
       "230      None                                None  \n",
       "336      None             Christianity (Catholic)  "
      ]
     },
     "execution_count": 21,
     "metadata": {},
     "output_type": "execute_result"
    }
   ],
   "source": [
    "# Let's work on our unemployed data above the retirement age of 65.\n",
    "\n",
    "census_df[(census_df['Occupation'] == 'Unemployed') & (census_df['Age'] > 65)].head()"
   ]
  },
  {
   "cell_type": "code",
   "execution_count": 22,
   "id": "6ff746da",
   "metadata": {},
   "outputs": [
    {
     "data": {
      "text/html": [
       "<div>\n",
       "<style scoped>\n",
       "    .dataframe tbody tr th:only-of-type {\n",
       "        vertical-align: middle;\n",
       "    }\n",
       "\n",
       "    .dataframe tbody tr th {\n",
       "        vertical-align: top;\n",
       "    }\n",
       "\n",
       "    .dataframe thead th {\n",
       "        text-align: right;\n",
       "    }\n",
       "</style>\n",
       "<table border=\"1\" class=\"dataframe\">\n",
       "  <thead>\n",
       "    <tr style=\"text-align: right;\">\n",
       "      <th></th>\n",
       "      <th>House Number</th>\n",
       "      <th>Street</th>\n",
       "      <th>First Name</th>\n",
       "      <th>Surname</th>\n",
       "      <th>Age</th>\n",
       "      <th>Relationship to Head of House</th>\n",
       "      <th>Marital Status</th>\n",
       "      <th>Gender</th>\n",
       "      <th>Occupation</th>\n",
       "      <th>Infirmity</th>\n",
       "      <th>Religion</th>\n",
       "    </tr>\n",
       "  </thead>\n",
       "  <tbody>\n",
       "  </tbody>\n",
       "</table>\n",
       "</div>"
      ],
      "text/plain": [
       "Empty DataFrame\n",
       "Columns: [House Number, Street, First Name, Surname, Age, Relationship to Head of House, Marital Status, Gender, Occupation, Infirmity, Religion]\n",
       "Index: []"
      ]
     },
     "execution_count": 22,
     "metadata": {},
     "output_type": "execute_result"
    }
   ],
   "source": [
    "# Cleaned unemployed data above the retirement age of 65.\n",
    "\n",
    "retirement_age = np.where((census_df['Age'] > 65),'Retired',census_df['Occupation'])\n",
    "\n",
    "census_df['Occupation'].replace({' ':'(Unknown)','Unemployed': retirement_age}, inplace = True)\n",
    "\n",
    "census_df[(census_df['Occupation'] == 'Unemployed') & (census_df['Age'] > 65)]"
   ]
  },
  {
   "cell_type": "code",
   "execution_count": 23,
   "id": "63e97684",
   "metadata": {},
   "outputs": [
    {
     "data": {
      "text/plain": [
       "array(['None', 'Deaf', 'Disabled', 'Physical Disability',\n",
       "       'Unknown Infection', 'Blind', ' ', 'Mental Disability'],\n",
       "      dtype=object)"
      ]
     },
     "execution_count": 23,
     "metadata": {},
     "output_type": "execute_result"
    }
   ],
   "source": [
    "# Blank or nan detected in 'Infirmity' column.\n",
    "\n",
    "census_df['Infirmity'].unique()"
   ]
  },
  {
   "cell_type": "code",
   "execution_count": 24,
   "id": "64b5e0b2",
   "metadata": {},
   "outputs": [
    {
     "data": {
      "text/plain": [
       "array(['None', 'Deaf', 'Disabled', 'Physical Disability',\n",
       "       'Unknown Infection', 'Blind', 'Mental Disability'], dtype=object)"
      ]
     },
     "execution_count": 24,
     "metadata": {},
     "output_type": "execute_result"
    }
   ],
   "source": [
    "# Lets replace empty rows with 'None'\n",
    "\n",
    "census_df['Infirmity'].replace(' ', 'None', inplace = True)\n",
    "\n",
    "census_df['Infirmity'].unique()"
   ]
  },
  {
   "cell_type": "code",
   "execution_count": 25,
   "id": "20c700bb",
   "metadata": {},
   "outputs": [
    {
     "data": {
      "text/plain": [
       "[None, None, None, None, None, None, None, None, None, None, None]"
      ]
     },
     "execution_count": 25,
     "metadata": {},
     "output_type": "execute_result"
    }
   ],
   "source": [
    "# Let's reconfirm that no blanks or nan is in our data by using the blank_nan_checker_all() function.\n",
    "\n",
    "blank_nan_checker_all()"
   ]
  },
  {
   "cell_type": "code",
   "execution_count": 26,
   "id": "87219e26",
   "metadata": {},
   "outputs": [
    {
     "name": "stdout",
     "output_type": "stream",
     "text": [
      "Son                 738\n",
      "Daughter            731\n",
      "Grandson             53\n",
      "Granddaughter        44\n",
      "Step-Son             19\n",
      "Step-Daughter        11\n",
      "Niece                11\n",
      "Adopted Son           8\n",
      "Nephew                7\n",
      "Adopted Daughter      7\n",
      "None                  2\n",
      "Adopted Grandson      2\n",
      "Name: Relationship to Head of House, dtype: int64 \n",
      "\n",
      "(Minor)    1633\n",
      "Name: Marital Status, dtype: int64 \n",
      "\n",
      "Student    1246\n",
      "Child       387\n",
      "Name: Occupation, dtype: int64 \n",
      "\n",
      "None    1633\n",
      "Name: Religion, dtype: int64 \n",
      "\n"
     ]
    }
   ],
   "source": [
    "# Let's reconfirm using the function 'under_age_comparism' to ensure there are no unrealistic data under the age of 18.\n",
    "\n",
    "print(under_age_comparison('Relationship to Head of House'),\"\\n\")\n",
    "print(under_age_comparison('Marital Status'),\"\\n\")\n",
    "print(under_age_comparison('Occupation'),\"\\n\")\n",
    "print(under_age_comparison('Religion'),\"\\n\")"
   ]
  },
  {
   "cell_type": "code",
   "execution_count": 27,
   "id": "be44753c",
   "metadata": {},
   "outputs": [
    {
     "data": {
      "text/html": [
       "<div>\n",
       "<style scoped>\n",
       "    .dataframe tbody tr th:only-of-type {\n",
       "        vertical-align: middle;\n",
       "    }\n",
       "\n",
       "    .dataframe tbody tr th {\n",
       "        vertical-align: top;\n",
       "    }\n",
       "\n",
       "    .dataframe thead th {\n",
       "        text-align: right;\n",
       "    }\n",
       "</style>\n",
       "<table border=\"1\" class=\"dataframe\">\n",
       "  <thead>\n",
       "    <tr style=\"text-align: right;\">\n",
       "      <th></th>\n",
       "      <th>House Number</th>\n",
       "      <th>Street</th>\n",
       "      <th>First Name</th>\n",
       "      <th>Surname</th>\n",
       "      <th>Age</th>\n",
       "      <th>Relationship to Head of House</th>\n",
       "      <th>Marital Status</th>\n",
       "      <th>Gender</th>\n",
       "      <th>Occupation</th>\n",
       "      <th>Infirmity</th>\n",
       "      <th>Religion</th>\n",
       "    </tr>\n",
       "  </thead>\n",
       "  <tbody>\n",
       "    <tr>\n",
       "      <th>0</th>\n",
       "      <td>1</td>\n",
       "      <td>Christmas Street</td>\n",
       "      <td>Kerry</td>\n",
       "      <td>Jones</td>\n",
       "      <td>34</td>\n",
       "      <td>Head</td>\n",
       "      <td>Married</td>\n",
       "      <td>Female</td>\n",
       "      <td>Mechanical engineer</td>\n",
       "      <td>None</td>\n",
       "      <td>None</td>\n",
       "    </tr>\n",
       "    <tr>\n",
       "      <th>1</th>\n",
       "      <td>1</td>\n",
       "      <td>Christmas Street</td>\n",
       "      <td>Allan</td>\n",
       "      <td>Collins</td>\n",
       "      <td>36</td>\n",
       "      <td>Husband</td>\n",
       "      <td>Married</td>\n",
       "      <td>Male</td>\n",
       "      <td>Ranger/warden</td>\n",
       "      <td>None</td>\n",
       "      <td>None</td>\n",
       "    </tr>\n",
       "    <tr>\n",
       "      <th>2</th>\n",
       "      <td>2</td>\n",
       "      <td>Christmas Street</td>\n",
       "      <td>Michelle</td>\n",
       "      <td>Davies</td>\n",
       "      <td>74</td>\n",
       "      <td>Head</td>\n",
       "      <td>Widowed</td>\n",
       "      <td>Female</td>\n",
       "      <td>Retired Oncologist</td>\n",
       "      <td>None</td>\n",
       "      <td>Christianity (Other Denominations)</td>\n",
       "    </tr>\n",
       "    <tr>\n",
       "      <th>3</th>\n",
       "      <td>2</td>\n",
       "      <td>Christmas Street</td>\n",
       "      <td>Jonathan</td>\n",
       "      <td>Davies</td>\n",
       "      <td>41</td>\n",
       "      <td>Son</td>\n",
       "      <td>Divorced</td>\n",
       "      <td>Male</td>\n",
       "      <td>Ceramics designer</td>\n",
       "      <td>None</td>\n",
       "      <td>Christianity (Other Denominations)</td>\n",
       "    </tr>\n",
       "    <tr>\n",
       "      <th>4</th>\n",
       "      <td>2</td>\n",
       "      <td>Christmas Street</td>\n",
       "      <td>Paige</td>\n",
       "      <td>Davies</td>\n",
       "      <td>39</td>\n",
       "      <td>Daughter</td>\n",
       "      <td>Widowed</td>\n",
       "      <td>Female</td>\n",
       "      <td>Unemployed</td>\n",
       "      <td>None</td>\n",
       "      <td>Christianity (Other Denominations)</td>\n",
       "    </tr>\n",
       "  </tbody>\n",
       "</table>\n",
       "</div>"
      ],
      "text/plain": [
       "   House Number            Street First Name  Surname  Age  \\\n",
       "0             1  Christmas Street      Kerry    Jones   34   \n",
       "1             1  Christmas Street      Allan  Collins   36   \n",
       "2             2  Christmas Street   Michelle   Davies   74   \n",
       "3             2  Christmas Street   Jonathan   Davies   41   \n",
       "4             2  Christmas Street      Paige   Davies   39   \n",
       "\n",
       "  Relationship to Head of House Marital Status  Gender           Occupation  \\\n",
       "0                          Head        Married  Female  Mechanical engineer   \n",
       "1                       Husband        Married    Male        Ranger/warden   \n",
       "2                          Head        Widowed  Female   Retired Oncologist   \n",
       "3                           Son       Divorced    Male    Ceramics designer   \n",
       "4                      Daughter        Widowed  Female           Unemployed   \n",
       "\n",
       "  Infirmity                            Religion  \n",
       "0      None                                None  \n",
       "1      None                                None  \n",
       "2      None  Christianity (Other Denominations)  \n",
       "3      None  Christianity (Other Denominations)  \n",
       "4      None  Christianity (Other Denominations)  "
      ]
     },
     "execution_count": 27,
     "metadata": {},
     "output_type": "execute_result"
    }
   ],
   "source": [
    "# cleaned data\n",
    "\n",
    "census_df.head(5)"
   ]
  },
  {
   "cell_type": "code",
   "execution_count": 28,
   "id": "c9c7fd3b",
   "metadata": {},
   "outputs": [
    {
     "data": {
      "text/html": [
       "<div>\n",
       "<style scoped>\n",
       "    .dataframe tbody tr th:only-of-type {\n",
       "        vertical-align: middle;\n",
       "    }\n",
       "\n",
       "    .dataframe tbody tr th {\n",
       "        vertical-align: top;\n",
       "    }\n",
       "\n",
       "    .dataframe thead th {\n",
       "        text-align: right;\n",
       "    }\n",
       "</style>\n",
       "<table border=\"1\" class=\"dataframe\">\n",
       "  <thead>\n",
       "    <tr style=\"text-align: right;\">\n",
       "      <th></th>\n",
       "      <th>House Number</th>\n",
       "      <th>Street</th>\n",
       "      <th>First Name</th>\n",
       "      <th>Surname</th>\n",
       "      <th>Age</th>\n",
       "      <th>Relationship to Head of House</th>\n",
       "      <th>Marital Status</th>\n",
       "      <th>Gender</th>\n",
       "      <th>Occupation</th>\n",
       "      <th>Infirmity</th>\n",
       "      <th>Religion</th>\n",
       "    </tr>\n",
       "  </thead>\n",
       "  <tbody>\n",
       "    <tr>\n",
       "      <th>0</th>\n",
       "      <td>1</td>\n",
       "      <td>Christmas Street</td>\n",
       "      <td>Kerry</td>\n",
       "      <td>Jones</td>\n",
       "      <td>34</td>\n",
       "      <td>Head</td>\n",
       "      <td>Married</td>\n",
       "      <td>Female</td>\n",
       "      <td>Mechanical engineer</td>\n",
       "      <td>None</td>\n",
       "      <td>None</td>\n",
       "    </tr>\n",
       "    <tr>\n",
       "      <th>1</th>\n",
       "      <td>1</td>\n",
       "      <td>Christmas Street</td>\n",
       "      <td>Allan</td>\n",
       "      <td>Collins</td>\n",
       "      <td>36</td>\n",
       "      <td>Husband</td>\n",
       "      <td>Married</td>\n",
       "      <td>Male</td>\n",
       "      <td>Ranger/warden</td>\n",
       "      <td>None</td>\n",
       "      <td>None</td>\n",
       "    </tr>\n",
       "    <tr>\n",
       "      <th>2</th>\n",
       "      <td>2</td>\n",
       "      <td>Christmas Street</td>\n",
       "      <td>Michelle</td>\n",
       "      <td>Davies</td>\n",
       "      <td>74</td>\n",
       "      <td>Head</td>\n",
       "      <td>Widowed</td>\n",
       "      <td>Female</td>\n",
       "      <td>Retired Oncologist</td>\n",
       "      <td>None</td>\n",
       "      <td>Christian</td>\n",
       "    </tr>\n",
       "    <tr>\n",
       "      <th>3</th>\n",
       "      <td>2</td>\n",
       "      <td>Christmas Street</td>\n",
       "      <td>Jonathan</td>\n",
       "      <td>Davies</td>\n",
       "      <td>41</td>\n",
       "      <td>Son</td>\n",
       "      <td>Divorced</td>\n",
       "      <td>Male</td>\n",
       "      <td>Ceramics designer</td>\n",
       "      <td>None</td>\n",
       "      <td>Christian</td>\n",
       "    </tr>\n",
       "    <tr>\n",
       "      <th>4</th>\n",
       "      <td>2</td>\n",
       "      <td>Christmas Street</td>\n",
       "      <td>Paige</td>\n",
       "      <td>Davies</td>\n",
       "      <td>39</td>\n",
       "      <td>Daughter</td>\n",
       "      <td>Widowed</td>\n",
       "      <td>Female</td>\n",
       "      <td>Unemployed</td>\n",
       "      <td>None</td>\n",
       "      <td>Christian</td>\n",
       "    </tr>\n",
       "  </tbody>\n",
       "</table>\n",
       "</div>"
      ],
      "text/plain": [
       "   House Number            Street First Name  Surname Age  \\\n",
       "0             1  Christmas Street      Kerry    Jones  34   \n",
       "1             1  Christmas Street      Allan  Collins  36   \n",
       "2             2  Christmas Street   Michelle   Davies  74   \n",
       "3             2  Christmas Street   Jonathan   Davies  41   \n",
       "4             2  Christmas Street      Paige   Davies  39   \n",
       "\n",
       "  Relationship to Head of House Marital Status  Gender           Occupation  \\\n",
       "0                          Head        Married  Female  Mechanical engineer   \n",
       "1                       Husband        Married    Male        Ranger/warden   \n",
       "2                          Head        Widowed  Female   Retired Oncologist   \n",
       "3                           Son       Divorced    Male    Ceramics designer   \n",
       "4                      Daughter        Widowed  Female           Unemployed   \n",
       "\n",
       "  Infirmity   Religion  \n",
       "0      None       None  \n",
       "1      None       None  \n",
       "2      None  Christian  \n",
       "3      None  Christian  \n",
       "4      None  Christian  "
      ]
     },
     "execution_count": 28,
     "metadata": {},
     "output_type": "execute_result"
    }
   ],
   "source": [
    "# Copied data still keeps the original\n",
    "\n",
    "census_c_df.head(5)"
   ]
  },
  {
   "cell_type": "markdown",
   "id": "72bbcf56",
   "metadata": {},
   "source": [
    "### Creating Additional Columns\n",
    "\n",
    "Now that we have cleaned our data and reconfirmed it using the Checker and Comparison Function, we will need to create additiional columns to aid our analysis.\n",
    "\n",
    "* Address:  This is the concatenation of both the house number and street column. \n",
    "* Employment Status: This gives a better classification of the occupation.\n",
    "* Age Group:  This categorizes the age column into 5-year age bands.\n",
    "* Number of Occupants: This shows the number of people in a particular household.\n"
   ]
  },
  {
   "cell_type": "code",
   "execution_count": 29,
   "id": "59573c24",
   "metadata": {},
   "outputs": [
    {
     "data": {
      "text/html": [
       "<div>\n",
       "<style scoped>\n",
       "    .dataframe tbody tr th:only-of-type {\n",
       "        vertical-align: middle;\n",
       "    }\n",
       "\n",
       "    .dataframe tbody tr th {\n",
       "        vertical-align: top;\n",
       "    }\n",
       "\n",
       "    .dataframe thead th {\n",
       "        text-align: right;\n",
       "    }\n",
       "</style>\n",
       "<table border=\"1\" class=\"dataframe\">\n",
       "  <thead>\n",
       "    <tr style=\"text-align: right;\">\n",
       "      <th></th>\n",
       "      <th>House Number</th>\n",
       "      <th>Street</th>\n",
       "      <th>First Name</th>\n",
       "      <th>Surname</th>\n",
       "      <th>Age</th>\n",
       "      <th>Relationship to Head of House</th>\n",
       "      <th>Marital Status</th>\n",
       "      <th>Gender</th>\n",
       "      <th>Occupation</th>\n",
       "      <th>Infirmity</th>\n",
       "      <th>Religion</th>\n",
       "      <th>Address</th>\n",
       "    </tr>\n",
       "  </thead>\n",
       "  <tbody>\n",
       "    <tr>\n",
       "      <th>0</th>\n",
       "      <td>1</td>\n",
       "      <td>Christmas Street</td>\n",
       "      <td>Kerry</td>\n",
       "      <td>Jones</td>\n",
       "      <td>34</td>\n",
       "      <td>Head</td>\n",
       "      <td>Married</td>\n",
       "      <td>Female</td>\n",
       "      <td>Mechanical engineer</td>\n",
       "      <td>None</td>\n",
       "      <td>None</td>\n",
       "      <td>1 Christmas Street</td>\n",
       "    </tr>\n",
       "    <tr>\n",
       "      <th>1</th>\n",
       "      <td>1</td>\n",
       "      <td>Christmas Street</td>\n",
       "      <td>Allan</td>\n",
       "      <td>Collins</td>\n",
       "      <td>36</td>\n",
       "      <td>Husband</td>\n",
       "      <td>Married</td>\n",
       "      <td>Male</td>\n",
       "      <td>Ranger/warden</td>\n",
       "      <td>None</td>\n",
       "      <td>None</td>\n",
       "      <td>1 Christmas Street</td>\n",
       "    </tr>\n",
       "    <tr>\n",
       "      <th>2</th>\n",
       "      <td>2</td>\n",
       "      <td>Christmas Street</td>\n",
       "      <td>Michelle</td>\n",
       "      <td>Davies</td>\n",
       "      <td>74</td>\n",
       "      <td>Head</td>\n",
       "      <td>Widowed</td>\n",
       "      <td>Female</td>\n",
       "      <td>Retired Oncologist</td>\n",
       "      <td>None</td>\n",
       "      <td>Christianity (Other Denominations)</td>\n",
       "      <td>2 Christmas Street</td>\n",
       "    </tr>\n",
       "    <tr>\n",
       "      <th>3</th>\n",
       "      <td>2</td>\n",
       "      <td>Christmas Street</td>\n",
       "      <td>Jonathan</td>\n",
       "      <td>Davies</td>\n",
       "      <td>41</td>\n",
       "      <td>Son</td>\n",
       "      <td>Divorced</td>\n",
       "      <td>Male</td>\n",
       "      <td>Ceramics designer</td>\n",
       "      <td>None</td>\n",
       "      <td>Christianity (Other Denominations)</td>\n",
       "      <td>2 Christmas Street</td>\n",
       "    </tr>\n",
       "    <tr>\n",
       "      <th>4</th>\n",
       "      <td>2</td>\n",
       "      <td>Christmas Street</td>\n",
       "      <td>Paige</td>\n",
       "      <td>Davies</td>\n",
       "      <td>39</td>\n",
       "      <td>Daughter</td>\n",
       "      <td>Widowed</td>\n",
       "      <td>Female</td>\n",
       "      <td>Unemployed</td>\n",
       "      <td>None</td>\n",
       "      <td>Christianity (Other Denominations)</td>\n",
       "      <td>2 Christmas Street</td>\n",
       "    </tr>\n",
       "  </tbody>\n",
       "</table>\n",
       "</div>"
      ],
      "text/plain": [
       "   House Number            Street First Name  Surname  Age  \\\n",
       "0             1  Christmas Street      Kerry    Jones   34   \n",
       "1             1  Christmas Street      Allan  Collins   36   \n",
       "2             2  Christmas Street   Michelle   Davies   74   \n",
       "3             2  Christmas Street   Jonathan   Davies   41   \n",
       "4             2  Christmas Street      Paige   Davies   39   \n",
       "\n",
       "  Relationship to Head of House Marital Status  Gender           Occupation  \\\n",
       "0                          Head        Married  Female  Mechanical engineer   \n",
       "1                       Husband        Married    Male        Ranger/warden   \n",
       "2                          Head        Widowed  Female   Retired Oncologist   \n",
       "3                           Son       Divorced    Male    Ceramics designer   \n",
       "4                      Daughter        Widowed  Female           Unemployed   \n",
       "\n",
       "  Infirmity                            Religion             Address  \n",
       "0      None                                None  1 Christmas Street  \n",
       "1      None                                None  1 Christmas Street  \n",
       "2      None  Christianity (Other Denominations)  2 Christmas Street  \n",
       "3      None  Christianity (Other Denominations)  2 Christmas Street  \n",
       "4      None  Christianity (Other Denominations)  2 Christmas Street  "
      ]
     },
     "execution_count": 29,
     "metadata": {},
     "output_type": "execute_result"
    }
   ],
   "source": [
    "# Let's prepare our data for proper visualization and analysis.\n",
    "\n",
    "# Let's first create a column named 'Address', consisting of both 'House Number' and 'Street'.\n",
    "\n",
    "census_df['Address'] = census_df['House Number'].astype(str) +\" \"+ census_df['Street']\n",
    "\n",
    "census_df.head()"
   ]
  },
  {
   "cell_type": "code",
   "execution_count": 30,
   "id": "1f1bd79b",
   "metadata": {},
   "outputs": [
    {
     "data": {
      "text/html": [
       "<div>\n",
       "<style scoped>\n",
       "    .dataframe tbody tr th:only-of-type {\n",
       "        vertical-align: middle;\n",
       "    }\n",
       "\n",
       "    .dataframe tbody tr th {\n",
       "        vertical-align: top;\n",
       "    }\n",
       "\n",
       "    .dataframe thead th {\n",
       "        text-align: right;\n",
       "    }\n",
       "</style>\n",
       "<table border=\"1\" class=\"dataframe\">\n",
       "  <thead>\n",
       "    <tr style=\"text-align: right;\">\n",
       "      <th></th>\n",
       "      <th>House Number</th>\n",
       "      <th>Street</th>\n",
       "      <th>First Name</th>\n",
       "      <th>Surname</th>\n",
       "      <th>Age</th>\n",
       "      <th>Relationship to Head of House</th>\n",
       "      <th>Marital Status</th>\n",
       "      <th>Gender</th>\n",
       "      <th>Occupation</th>\n",
       "      <th>Infirmity</th>\n",
       "      <th>Religion</th>\n",
       "      <th>Address</th>\n",
       "      <th>Employment Status</th>\n",
       "    </tr>\n",
       "  </thead>\n",
       "  <tbody>\n",
       "    <tr>\n",
       "      <th>0</th>\n",
       "      <td>1</td>\n",
       "      <td>Christmas Street</td>\n",
       "      <td>Kerry</td>\n",
       "      <td>Jones</td>\n",
       "      <td>34</td>\n",
       "      <td>Head</td>\n",
       "      <td>Married</td>\n",
       "      <td>Female</td>\n",
       "      <td>Mechanical engineer</td>\n",
       "      <td>None</td>\n",
       "      <td>None</td>\n",
       "      <td>1 Christmas Street</td>\n",
       "      <td>Employed</td>\n",
       "    </tr>\n",
       "    <tr>\n",
       "      <th>1</th>\n",
       "      <td>1</td>\n",
       "      <td>Christmas Street</td>\n",
       "      <td>Allan</td>\n",
       "      <td>Collins</td>\n",
       "      <td>36</td>\n",
       "      <td>Husband</td>\n",
       "      <td>Married</td>\n",
       "      <td>Male</td>\n",
       "      <td>Ranger/warden</td>\n",
       "      <td>None</td>\n",
       "      <td>None</td>\n",
       "      <td>1 Christmas Street</td>\n",
       "      <td>Employed</td>\n",
       "    </tr>\n",
       "    <tr>\n",
       "      <th>2</th>\n",
       "      <td>2</td>\n",
       "      <td>Christmas Street</td>\n",
       "      <td>Michelle</td>\n",
       "      <td>Davies</td>\n",
       "      <td>74</td>\n",
       "      <td>Head</td>\n",
       "      <td>Widowed</td>\n",
       "      <td>Female</td>\n",
       "      <td>Retired Oncologist</td>\n",
       "      <td>None</td>\n",
       "      <td>Christianity (Other Denominations)</td>\n",
       "      <td>2 Christmas Street</td>\n",
       "      <td>Retired</td>\n",
       "    </tr>\n",
       "    <tr>\n",
       "      <th>3</th>\n",
       "      <td>2</td>\n",
       "      <td>Christmas Street</td>\n",
       "      <td>Jonathan</td>\n",
       "      <td>Davies</td>\n",
       "      <td>41</td>\n",
       "      <td>Son</td>\n",
       "      <td>Divorced</td>\n",
       "      <td>Male</td>\n",
       "      <td>Ceramics designer</td>\n",
       "      <td>None</td>\n",
       "      <td>Christianity (Other Denominations)</td>\n",
       "      <td>2 Christmas Street</td>\n",
       "      <td>Employed</td>\n",
       "    </tr>\n",
       "    <tr>\n",
       "      <th>4</th>\n",
       "      <td>2</td>\n",
       "      <td>Christmas Street</td>\n",
       "      <td>Paige</td>\n",
       "      <td>Davies</td>\n",
       "      <td>39</td>\n",
       "      <td>Daughter</td>\n",
       "      <td>Widowed</td>\n",
       "      <td>Female</td>\n",
       "      <td>Unemployed</td>\n",
       "      <td>None</td>\n",
       "      <td>Christianity (Other Denominations)</td>\n",
       "      <td>2 Christmas Street</td>\n",
       "      <td>Unemployed</td>\n",
       "    </tr>\n",
       "  </tbody>\n",
       "</table>\n",
       "</div>"
      ],
      "text/plain": [
       "   House Number            Street First Name  Surname  Age  \\\n",
       "0             1  Christmas Street      Kerry    Jones   34   \n",
       "1             1  Christmas Street      Allan  Collins   36   \n",
       "2             2  Christmas Street   Michelle   Davies   74   \n",
       "3             2  Christmas Street   Jonathan   Davies   41   \n",
       "4             2  Christmas Street      Paige   Davies   39   \n",
       "\n",
       "  Relationship to Head of House Marital Status  Gender           Occupation  \\\n",
       "0                          Head        Married  Female  Mechanical engineer   \n",
       "1                       Husband        Married    Male        Ranger/warden   \n",
       "2                          Head        Widowed  Female   Retired Oncologist   \n",
       "3                           Son       Divorced    Male    Ceramics designer   \n",
       "4                      Daughter        Widowed  Female           Unemployed   \n",
       "\n",
       "  Infirmity                            Religion             Address  \\\n",
       "0      None                                None  1 Christmas Street   \n",
       "1      None                                None  1 Christmas Street   \n",
       "2      None  Christianity (Other Denominations)  2 Christmas Street   \n",
       "3      None  Christianity (Other Denominations)  2 Christmas Street   \n",
       "4      None  Christianity (Other Denominations)  2 Christmas Street   \n",
       "\n",
       "  Employment Status  \n",
       "0          Employed  \n",
       "1          Employed  \n",
       "2           Retired  \n",
       "3          Employed  \n",
       "4        Unemployed  "
      ]
     },
     "execution_count": 30,
     "metadata": {},
     "output_type": "execute_result"
    }
   ],
   "source": [
    "# Let's create an 'Employment Status' column.\n",
    "\n",
    "def e_status(status):\n",
    "    \n",
    "    \"\"\"\n",
    "    This function is used\n",
    "    to categorize the employment \n",
    "    status based on occupation.\n",
    "    \n",
    "    \"\"\"\n",
    "    if 'retired' in status.lower():\n",
    "        return 'Retired'\n",
    "    elif 'unemployed' in status.lower():\n",
    "        return 'Unemployed'\n",
    "    elif status.lower() == 'student':\n",
    "        return 'Student' \n",
    "    elif status.lower() == 'university student' or status.lower() == 'phd student':\n",
    "        return 'University Student'\n",
    "    elif status.lower() == 'child':\n",
    "        return 'Child'\n",
    "    elif status == '(Unknown)':\n",
    "        return 'Unknown Status'\n",
    "    else:\n",
    "        return 'Employed'\n",
    "     \n",
    "census_df['Employment Status'] = census_df['Occupation'].apply(e_status)    \n",
    "census_df.head()"
   ]
  },
  {
   "cell_type": "code",
   "execution_count": 31,
   "id": "9dd2e529",
   "metadata": {},
   "outputs": [],
   "source": [
    "# Let's create an 'Age Group' column.\n",
    "\n",
    "def age_group(age):\n",
    "    if age <= 4:\n",
    "        return '0-4'\n",
    "    elif age <= 9:\n",
    "        return '5-9'\n",
    "    elif age <= 14:\n",
    "        return '10-14'\n",
    "    elif age <= 19:\n",
    "        return '15-19'\n",
    "    elif age <= 24:\n",
    "        return '20-24'\n",
    "    elif age <= 29:\n",
    "        return '25-29'\n",
    "    elif age <= 34:\n",
    "        return '30-34'\n",
    "    elif age <= 39:\n",
    "        return '35-39'\n",
    "    elif age <= 44:\n",
    "        return '40-44'\n",
    "    elif age <= 49:\n",
    "        return '45-49'\n",
    "    elif age <= 54:\n",
    "        return '50-54'\n",
    "    elif age <= 59:\n",
    "        return '55-59'\n",
    "    elif age <= 64:\n",
    "        return '60-64'\n",
    "    elif age <= 69:\n",
    "        return '65-69'\n",
    "    elif age <= 74:\n",
    "        return '70-74'\n",
    "    elif age <= 79:\n",
    "        return '75-79'\n",
    "    elif age <= 84:\n",
    "        return '80-84'\n",
    "    elif age <= 89:\n",
    "        return '85-89'\n",
    "    elif age <= 94:\n",
    "        return '90-94'\n",
    "    elif age <= 99:\n",
    "        return '95-99'\n",
    "    elif age >= 100:\n",
    "        return '100+'\n",
    "    \n",
    "census_df['Age Group'] = census_df['Age'].apply(age_group)    "
   ]
  },
  {
   "cell_type": "code",
   "execution_count": 32,
   "id": "1f14d68a",
   "metadata": {},
   "outputs": [],
   "source": [
    "# Let's create a final column called 'Number of Occupants' column.\n",
    "\n",
    "census_df['Number of Occupants'] = census_df.apply(lambda x: len(census_df[census_df['Address'] == x['Address']]),axis =1)"
   ]
  },
  {
   "cell_type": "code",
   "execution_count": 33,
   "id": "547d25cf",
   "metadata": {},
   "outputs": [
    {
     "name": "stdout",
     "output_type": "stream",
     "text": [
      "<class 'pandas.core.frame.DataFrame'>\n",
      "Int64Index: 7260 entries, 0 to 7259\n",
      "Data columns (total 15 columns):\n",
      " #   Column                         Non-Null Count  Dtype \n",
      "---  ------                         --------------  ----- \n",
      " 0   House Number                   7260 non-null   int64 \n",
      " 1   Street                         7260 non-null   object\n",
      " 2   First Name                     7260 non-null   object\n",
      " 3   Surname                        7260 non-null   object\n",
      " 4   Age                            7260 non-null   int64 \n",
      " 5   Relationship to Head of House  7260 non-null   object\n",
      " 6   Marital Status                 7260 non-null   object\n",
      " 7   Gender                         7260 non-null   object\n",
      " 8   Occupation                     7260 non-null   object\n",
      " 9   Infirmity                      7260 non-null   object\n",
      " 10  Religion                       7260 non-null   object\n",
      " 11  Address                        7260 non-null   object\n",
      " 12  Employment Status              7260 non-null   object\n",
      " 13  Age Group                      7260 non-null   object\n",
      " 14  Number of Occupants            7260 non-null   int64 \n",
      "dtypes: int64(3), object(12)\n",
      "memory usage: 907.5+ KB\n"
     ]
    }
   ],
   "source": [
    "census_df.info()"
   ]
  },
  {
   "cell_type": "markdown",
   "id": "7f9bf99c",
   "metadata": {},
   "source": [
    "## Data Visualization and Analysis Task\n",
    "Now that we have created additional columns, let's proceed with data visualization and analysis.\n",
    "\n",
    "We will be working mainly with seaborn and sweetviz for this task."
   ]
  },
  {
   "cell_type": "code",
   "execution_count": 34,
   "id": "ee854b60",
   "metadata": {},
   "outputs": [
    {
     "data": {
      "image/png": "[encoded data removed]",
      "text/plain": [
       "<Figure size 720x576 with 1 Axes>"
      ]
     },
     "metadata": {
      "needs_background": "light"
     },
     "output_type": "display_data"
    }
   ],
   "source": [
    "# Let's fisrt plot our Population Pyramid to help us examine the age distribution for both male and female.\n",
    "\n",
    "gender_group = pd.crosstab(census_df['Age Group'], census_df['Gender'])\n",
    "male = -1 * gender_group['Male']\n",
    "female = gender_group['Female']\n",
    "age_group = gender_group.index\n",
    "\n",
    "sorted_range = ['100+', '95-99', '90-94', '85-89', '80-84', '75-79', '70-74', '65-69', '60-64',\n",
    "       '55-59', '50-54', '45-49', '40-44', '35-39', '30-34', '25-29',\n",
    "       '20-24', '15-19', '10-14', '5-9', '0-4']\n",
    "\n",
    "plt.figure(figsize=(10, 8))\n",
    "bar_plot = sns.barplot(x=male, y=gender_group.index, data=gender_group, order= sorted_range)\n",
    "\n",
    "bar_plot = sns.barplot(x=female, y=age_group, data=gender_group, order= sorted_range)\n",
    "\n",
    "bar_plot.set(xlabel=\"Population (Count)\", ylabel=\"Age-Group\", title = \"Population Pyramid\")\n",
    "\n",
    "plt.show()\n"
   ]
  },
  {
   "cell_type": "code",
   "execution_count": 35,
   "id": "7a92bd25",
   "metadata": {},
   "outputs": [
    {
     "data": {
      "text/plain": [
       "<Figure size 864x576 with 0 Axes>"
      ]
     },
     "metadata": {},
     "output_type": "display_data"
    },
    {
     "data": {
      "image/png": "[encoded data removed]",
      "text/plain": [
       "<Figure size 465.75x360 with 1 Axes>"
      ]
     },
     "metadata": {
      "needs_background": "light"
     },
     "output_type": "display_data"
    }
   ],
   "source": [
    "# Let's plot a displot to view the ages for the unemployed.\n",
    "\n",
    "plt.figure(figsize=(12, 8))\n",
    "\n",
    "unemployed = census_df[census_df['Employment Status'] == 'Unemployed'] \n",
    "employed = census_df[census_df['Employment Status'] == 'Employed']\n",
    "sns.displot(data = unemployed, x = census_df['Age'], hue ='Employment Status')\n",
    "\n",
    "\n",
    "plt.show()\n"
   ]
  },
  {
   "cell_type": "code",
   "execution_count": 36,
   "id": "2950470f",
   "metadata": {},
   "outputs": [
    {
     "data": {
      "text/plain": [
       "<AxesSubplot:xlabel='Age', ylabel='Density'>"
      ]
     },
     "execution_count": 36,
     "metadata": {},
     "output_type": "execute_result"
    },
    {
     "data": {
      "image/png": "[encoded data removed]",
      "text/plain": [
       "<Figure size 432x432 with 1 Axes>"
      ]
     },
     "metadata": {
      "needs_background": "light"
     },
     "output_type": "display_data"
    }
   ],
   "source": [
    "# Let's compare the ages for both employed and unemployed.\n",
    "\n",
    "plt.figure(figsize=(6, 6))\n",
    "employed_not = census_df[(census_df['Employment Status'] == 'Unemployed') | (census_df['Employment Status'] == 'Employed')]\n",
    "sns.kdeplot(data = employed_not, x = census_df['Age'], hue ='Employment Status')"
   ]
  },
  {
   "cell_type": "code",
   "execution_count": 37,
   "id": "3a13cca3",
   "metadata": {},
   "outputs": [
    {
     "data": {
      "text/plain": [
       "Text(0.5, 1.0, 'Divorced Gender Category')"
      ]
     },
     "execution_count": 37,
     "metadata": {},
     "output_type": "execute_result"
    },
    {
     "data": {
      "image/png": "[encoded data removed]",
      "text/plain": [
       "<Figure size 432.125x360 with 1 Axes>"
      ]
     },
     "metadata": {
      "needs_background": "light"
     },
     "output_type": "display_data"
    }
   ],
   "source": [
    "# Let's look at the divorced gender category \n",
    "\n",
    "sns.displot(data = census_df[census_df['Marital Status'] == 'Divorced'], x =census_df['Gender'] , hue = 'Gender')\n",
    "\n",
    "plt.title('Divorced Gender Category')"
   ]
  },
  {
   "cell_type": "code",
   "execution_count": 38,
   "id": "fc9a5a4b",
   "metadata": {},
   "outputs": [
    {
     "data": {
      "text/plain": [
       "<AxesSubplot:xlabel='Age', ylabel='Religion'>"
      ]
     },
     "execution_count": 38,
     "metadata": {},
     "output_type": "execute_result"
    },
    {
     "data": {
      "image/png": "[encoded data removed]",
      "text/plain": [
       "<Figure size 504x504 with 1 Axes>"
      ]
     },
     "metadata": {
      "needs_background": "light"
     },
     "output_type": "display_data"
    }
   ],
   "source": [
    "# Let's look at the boxplot of religion by age.\n",
    "\n",
    "plt.figure(figsize=(7, 7))\n",
    "#no_none_rdf = census_df[census_df['Religion'] != 'None'] \n",
    "sns.boxplot(data = census_df, x = 'Age', y ='Religion')\n"
   ]
  },
  {
   "cell_type": "code",
   "execution_count": 39,
   "id": "184f8491",
   "metadata": {},
   "outputs": [
    {
     "data": {
      "text/plain": [
       "<AxesSubplot:xlabel='Age', ylabel='Marital Status'>"
      ]
     },
     "execution_count": 39,
     "metadata": {},
     "output_type": "execute_result"
    },
    {
     "data": {
      "image/png": "[encoded data removed]",
      "text/plain": [
       "<Figure size 576x576 with 1 Axes>"
      ]
     },
     "metadata": {
      "needs_background": "light"
     },
     "output_type": "display_data"
    }
   ],
   "source": [
    "# Boxplot of marital status against age.\n",
    "\n",
    "plt.figure(figsize=(8, 8))\n",
    "sns.boxplot(data = census_df, y = 'Marital Status', x ='Age', hue = 'Marital Status')"
   ]
  },
  {
   "cell_type": "code",
   "execution_count": 40,
   "id": "59fae15a",
   "metadata": {},
   "outputs": [
    {
     "data": {
      "text/plain": [
       "<AxesSubplot:xlabel='Number of Occupants'>"
      ]
     },
     "execution_count": 40,
     "metadata": {},
     "output_type": "execute_result"
    },
    {
     "data": {
      "image/png": "[encoded data removed]",
      "text/plain": [
       "<Figure size 432x288 with 1 Axes>"
      ]
     },
     "metadata": {
      "needs_background": "light"
     },
     "output_type": "display_data"
    }
   ],
   "source": [
    "# Boxplot of number of occupants\n",
    "\n",
    "sns.boxplot(data = census_df, x = 'Number of Occupants')"
   ]
  },
  {
   "cell_type": "code",
   "execution_count": 41,
   "id": "7aadd743",
   "metadata": {},
   "outputs": [
    {
     "data": {
      "text/plain": [
       "count    7260.000000\n",
       "mean        3.687052\n",
       "std         2.506830\n",
       "min         1.000000\n",
       "25%         2.000000\n",
       "50%         3.000000\n",
       "75%         5.000000\n",
       "max        21.000000\n",
       "Name: Number of Occupants, dtype: float64"
      ]
     },
     "execution_count": 41,
     "metadata": {},
     "output_type": "execute_result"
    }
   ],
   "source": [
    "# Statistics of the number of occupants.\n",
    "\n",
    "census_df['Number of Occupants'].describe()"
   ]
  },
  {
   "cell_type": "code",
   "execution_count": 42,
   "id": "3752a454",
   "metadata": {},
   "outputs": [
    {
     "data": {
      "text/plain": [
       "<AxesSubplot:xlabel='Employment Status', ylabel='Count'>"
      ]
     },
     "execution_count": 42,
     "metadata": {},
     "output_type": "execute_result"
    },
    {
     "data": {
      "image/png": "[encoded data removed]",
      "text/plain": [
       "<Figure size 720x360 with 1 Axes>"
      ]
     },
     "metadata": {
      "needs_background": "light"
     },
     "output_type": "display_data"
    }
   ],
   "source": [
    "# Histogram plot of employment status.\n",
    "\n",
    "plt.figure(figsize=(10, 5))\n",
    "sns.histplot(data = census_df, x = 'Employment Status', hue = 'Employment Status')"
   ]
  },
  {
   "cell_type": "markdown",
   "id": "b96f8260",
   "metadata": {},
   "source": [
    "### Birth Death Rate Function \n",
    "A function called ‘birth death rate’ was created to give us a clear analysis of the birth and death rate of our census data.\n",
    "\n",
    "This function takes in a single argument which is the number of years we want to analyse and it returns a line plot \n",
    "\n",
    "representation of both the birth and death rate."
   ]
  },
  {
   "cell_type": "code",
   "execution_count": 43,
   "id": "23bf5005",
   "metadata": {},
   "outputs": [
    {
     "name": "stdout",
     "output_type": "stream",
     "text": [
      "AxesSubplot(0.125,0.125;0.775x0.755)\n",
      "AxesSubplot(0.125,0.125;0.775x0.755)\n",
      "AxesSubplot(0.125,0.125;0.775x0.755)\n"
     ]
    },
    {
     "data": {
      "text/html": [
       "<div>\n",
       "<style scoped>\n",
       "    .dataframe tbody tr th:only-of-type {\n",
       "        vertical-align: middle;\n",
       "    }\n",
       "\n",
       "    .dataframe tbody tr th {\n",
       "        vertical-align: top;\n",
       "    }\n",
       "\n",
       "    .dataframe thead th {\n",
       "        text-align: right;\n",
       "    }\n",
       "</style>\n",
       "<table border=\"1\" class=\"dataframe\">\n",
       "  <thead>\n",
       "    <tr style=\"text-align: right;\">\n",
       "      <th></th>\n",
       "      <th>Birth</th>\n",
       "      <th>Death</th>\n",
       "      <th>Difference</th>\n",
       "    </tr>\n",
       "    <tr>\n",
       "      <th>Year</th>\n",
       "      <th></th>\n",
       "      <th></th>\n",
       "      <th></th>\n",
       "    </tr>\n",
       "  </thead>\n",
       "  <tbody>\n",
       "    <tr>\n",
       "      <th>Year 5</th>\n",
       "      <td>86</td>\n",
       "      <td>19</td>\n",
       "      <td>67</td>\n",
       "    </tr>\n",
       "    <tr>\n",
       "      <th>Year 4</th>\n",
       "      <td>92</td>\n",
       "      <td>27</td>\n",
       "      <td>65</td>\n",
       "    </tr>\n",
       "    <tr>\n",
       "      <th>Year 3</th>\n",
       "      <td>78</td>\n",
       "      <td>25</td>\n",
       "      <td>53</td>\n",
       "    </tr>\n",
       "    <tr>\n",
       "      <th>Year 2</th>\n",
       "      <td>81</td>\n",
       "      <td>27</td>\n",
       "      <td>54</td>\n",
       "    </tr>\n",
       "    <tr>\n",
       "      <th>Year 1</th>\n",
       "      <td>50</td>\n",
       "      <td>29</td>\n",
       "      <td>21</td>\n",
       "    </tr>\n",
       "  </tbody>\n",
       "</table>\n",
       "</div>"
      ],
      "text/plain": [
       "        Birth  Death  Difference\n",
       "Year                            \n",
       "Year 5     86     19          67\n",
       "Year 4     92     27          65\n",
       "Year 3     78     25          53\n",
       "Year 2     81     27          54\n",
       "Year 1     50     29          21"
      ]
     },
     "execution_count": 43,
     "metadata": {},
     "output_type": "execute_result"
    },
    {
     "data": {
      "image/png": "[encoded data removed]",
      "text/plain": [
       "<Figure size 576x432 with 1 Axes>"
      ]
     },
     "metadata": {
      "needs_background": "light"
     },
     "output_type": "display_data"
    }
   ],
   "source": [
    "# Function to plot both birth and death rate.\n",
    "\n",
    "def birth_death_rate(n):\n",
    "    year = []\n",
    "    birth = []\n",
    "    death = []\n",
    "    pop_diff = []\n",
    "    for i in range(n):\n",
    "        if i in census_df.Age:\n",
    "            year.append(f\"Year {i+1}\")\n",
    "            birth.append(sum(census_df['Age']==i))\n",
    "            death.append(sum(census_df['Age']== 81+i)) # Death-Rate is over 80 years\n",
    "            pop_diff.append(birth[i]- death[i])\n",
    "            \n",
    "    pop_dict = dict(Year = year[::-1], Birth = birth[::-1], Death = death[::-1], Difference = pop_diff[::-1]) \n",
    "    \n",
    "    result = pd.DataFrame.from_dict(pop_dict).set_index('Year')\n",
    "    \n",
    "    plt.figure(figsize=(8, 6))\n",
    "    \n",
    "    plt.ylabel ('Count')\n",
    "    \n",
    "    for i in range(len(pop_dict)-1):\n",
    "      \n",
    "        print(sns.lineplot(result,y = result.columns[i], x = result.index,label = result.columns[i]))\n",
    "        \n",
    "    return result\n",
    "\n",
    "birth_death_rate(5)        "
   ]
  },
  {
   "cell_type": "code",
   "execution_count": 44,
   "id": "4da619d3",
   "metadata": {},
   "outputs": [
    {
     "data": {
      "text/plain": [
       "<seaborn.axisgrid.FacetGrid at 0x15b13ee1ac0>"
      ]
     },
     "execution_count": 44,
     "metadata": {},
     "output_type": "execute_result"
    },
    {
     "data": {
      "image/png": "[encoded data removed]",
      "text/plain": [
       "<Figure size 360x360 with 1 Axes>"
      ]
     },
     "metadata": {
      "needs_background": "light"
     },
     "output_type": "display_data"
    }
   ],
   "source": [
    "# Using a cat plot to show the relationship between the number of occupants in a household and marital status.\n",
    "\n",
    "# Looking at the marital status, we can see a similarity between married and minor. \n",
    "\n",
    "# This tells us that minors are mostly in married homes\n",
    "\n",
    "sns.catplot(data=census_df, x='Number of Occupants', y='Marital Status')"
   ]
  },
  {
   "cell_type": "markdown",
   "id": "52781bd4",
   "metadata": {},
   "source": [
    "### Sweetviz Visualization and Analysis\n",
    "We can use sweetviz to gain more insight for a better analysis."
   ]
  },
  {
   "cell_type": "code",
   "execution_count": 45,
   "id": "4b07bc28",
   "metadata": {},
   "outputs": [
    {
     "data": {
      "application/vnd.jupyter.widget-view+json": {
       "model_id": "7b8cf38310c147f8b002edf94d02e461",
       "version_major": 2,
       "version_minor": 0
      },
      "text/plain": [
       "                                             |                                             | [  0%]   00:00 ->…"
      ]
     },
     "metadata": {},
     "output_type": "display_data"
    },
    {
     "name": "stdout",
     "output_type": "stream",
     "text": [
      "Report census_10.html was generated.\n"
     ]
    },
    {
     "data": {
      "text/html": [
       "\n",
       "        <iframe\n",
       "            width=\"1000\"\n",
       "            height=\"1000\"\n",
       "            src=\"census_10.html\"\n",
       "            frameborder=\"0\"\n",
       "            allowfullscreen\n",
       "        ></iframe>\n",
       "        "
      ],
      "text/plain": [
       "<IPython.lib.display.IFrame at 0x15b13f60e80>"
      ]
     },
     "execution_count": 45,
     "metadata": {},
     "output_type": "execute_result"
    }
   ],
   "source": [
    "# Using sweetviz to gain more insight for a better analysis.\n",
    "\n",
    "census_10_report = sv.analyze(census_df)\n",
    "census_10_report.show_html('census_10.html', open_browser=False)\n",
    "\n",
    "IFrame('census_10.html', height = 1000, width = 1000)\n",
    "#IPython.display.HTML('census_10.html')"
   ]
  },
  {
   "cell_type": "code",
   "execution_count": null,
   "id": "498f2b08",
   "metadata": {},
   "outputs": [],
   "source": []
  }
 ],
 "metadata": {
  "kernelspec": {
   "display_name": "Python 3 (ipykernel)",
   "language": "python",
   "name": "python3"
  },
  "language_info": {
   "codemirror_mode": {
    "name": "ipython",
    "version": 3
   },
   "file_extension": ".py",
   "mimetype": "text/x-python",
   "name": "python",
   "nbconvert_exporter": "python",
   "pygments_lexer": "ipython3",
   "version": "3.10.7"
  }
 },
 "nbformat": 4,
 "nbformat_minor": 5
}
